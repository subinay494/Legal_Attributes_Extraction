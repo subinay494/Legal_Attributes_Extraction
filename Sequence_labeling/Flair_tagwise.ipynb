{
 "cells": [
  {
   "cell_type": "code",
   "execution_count": null,
   "metadata": {
    "colab": {
     "base_uri": "https://localhost:8080/"
    },
    "id": "EhfViWqxa6c2",
    "outputId": "689d5426-5a75-4d92-94ad-b9fcf356a2fe"
   },
   "outputs": [
    {
     "name": "stdout",
     "output_type": "stream",
     "text": [
      "Looking in indexes: https://pypi.org/simple, https://us-python.pkg.dev/colab-wheels/public/simple/\n",
      "Requirement already satisfied: flair in /usr/local/lib/python3.10/dist-packages (0.12.2)\n",
      "Requirement already satisfied: python-dateutil>=2.6.1 in /usr/local/lib/python3.10/dist-packages (from flair) (2.8.2)\n",
      "Requirement already satisfied: torch!=1.8,>=1.5.0 in /usr/local/lib/python3.10/dist-packages (from flair) (2.0.1+cu118)\n",
      "Requirement already satisfied: gensim>=3.8.0 in /usr/local/lib/python3.10/dist-packages (from flair) (4.3.1)\n",
      "Requirement already satisfied: tqdm>=4.26.0 in /usr/local/lib/python3.10/dist-packages (from flair) (4.65.0)\n",
      "Requirement already satisfied: segtok>=1.5.7 in /usr/local/lib/python3.10/dist-packages (from flair) (1.5.11)\n",
      "Requirement already satisfied: matplotlib>=2.2.3 in /usr/local/lib/python3.10/dist-packages (from flair) (3.7.1)\n",
      "Requirement already satisfied: mpld3==0.3 in /usr/local/lib/python3.10/dist-packages (from flair) (0.3)\n",
      "Requirement already satisfied: scikit-learn>=0.21.3 in /usr/local/lib/python3.10/dist-packages (from flair) (1.2.2)\n",
      "Requirement already satisfied: sqlitedict>=1.6.0 in /usr/local/lib/python3.10/dist-packages (from flair) (2.1.0)\n",
      "Requirement already satisfied: deprecated>=1.2.4 in /usr/local/lib/python3.10/dist-packages (from flair) (1.2.14)\n",
      "Requirement already satisfied: hyperopt>=0.2.7 in /usr/local/lib/python3.10/dist-packages (from flair) (0.2.7)\n",
      "Requirement already satisfied: boto3 in /usr/local/lib/python3.10/dist-packages (from flair) (1.26.160)\n",
      "Requirement already satisfied: transformers[sentencepiece]>=4.18.0 in /usr/local/lib/python3.10/dist-packages (from flair) (4.30.2)\n",
      "Requirement already satisfied: bpemb>=0.3.2 in /usr/local/lib/python3.10/dist-packages (from flair) (0.3.4)\n",
      "Requirement already satisfied: regex in /usr/local/lib/python3.10/dist-packages (from flair) (2022.10.31)\n",
      "Requirement already satisfied: tabulate in /usr/local/lib/python3.10/dist-packages (from flair) (0.8.10)\n",
      "Requirement already satisfied: langdetect in /usr/local/lib/python3.10/dist-packages (from flair) (1.0.9)\n",
      "Requirement already satisfied: lxml in /usr/local/lib/python3.10/dist-packages (from flair) (4.9.2)\n",
      "Requirement already satisfied: ftfy in /usr/local/lib/python3.10/dist-packages (from flair) (6.1.1)\n",
      "Requirement already satisfied: janome in /usr/local/lib/python3.10/dist-packages (from flair) (0.4.2)\n",
      "Requirement already satisfied: gdown==4.4.0 in /usr/local/lib/python3.10/dist-packages (from flair) (4.4.0)\n",
      "Requirement already satisfied: huggingface-hub>=0.10.0 in /usr/local/lib/python3.10/dist-packages (from flair) (0.15.1)\n",
      "Requirement already satisfied: conllu>=4.0 in /usr/local/lib/python3.10/dist-packages (from flair) (4.5.3)\n",
      "Requirement already satisfied: more-itertools in /usr/local/lib/python3.10/dist-packages (from flair) (9.1.0)\n",
      "Requirement already satisfied: wikipedia-api in /usr/local/lib/python3.10/dist-packages (from flair) (0.5.8)\n",
      "Requirement already satisfied: pptree in /usr/local/lib/python3.10/dist-packages (from flair) (3.1)\n",
      "Requirement already satisfied: pytorch-revgrad in /usr/local/lib/python3.10/dist-packages (from flair) (0.2.0)\n",
      "Requirement already satisfied: transformer-smaller-training-vocab>=0.2.1 in /usr/local/lib/python3.10/dist-packages (from flair) (0.2.4)\n",
      "Requirement already satisfied: filelock in /usr/local/lib/python3.10/dist-packages (from gdown==4.4.0->flair) (3.12.2)\n",
      "Requirement already satisfied: requests[socks] in /usr/local/lib/python3.10/dist-packages (from gdown==4.4.0->flair) (2.27.1)\n",
      "Requirement already satisfied: six in /usr/local/lib/python3.10/dist-packages (from gdown==4.4.0->flair) (1.16.0)\n",
      "Requirement already satisfied: beautifulsoup4 in /usr/local/lib/python3.10/dist-packages (from gdown==4.4.0->flair) (4.11.2)\n",
      "Requirement already satisfied: numpy in /usr/local/lib/python3.10/dist-packages (from bpemb>=0.3.2->flair) (1.22.4)\n",
      "Requirement already satisfied: sentencepiece in /usr/local/lib/python3.10/dist-packages (from bpemb>=0.3.2->flair) (0.1.99)\n",
      "Requirement already satisfied: wrapt<2,>=1.10 in /usr/local/lib/python3.10/dist-packages (from deprecated>=1.2.4->flair) (1.14.1)\n",
      "Requirement already satisfied: scipy>=1.7.0 in /usr/local/lib/python3.10/dist-packages (from gensim>=3.8.0->flair) (1.10.1)\n",
      "Requirement already satisfied: smart-open>=1.8.1 in /usr/local/lib/python3.10/dist-packages (from gensim>=3.8.0->flair) (6.3.0)\n",
      "Requirement already satisfied: fsspec in /usr/local/lib/python3.10/dist-packages (from huggingface-hub>=0.10.0->flair) (2023.6.0)\n",
      "Requirement already satisfied: pyyaml>=5.1 in /usr/local/lib/python3.10/dist-packages (from huggingface-hub>=0.10.0->flair) (6.0)\n",
      "Requirement already satisfied: typing-extensions>=3.7.4.3 in /usr/local/lib/python3.10/dist-packages (from huggingface-hub>=0.10.0->flair) (4.6.3)\n",
      "Requirement already satisfied: packaging>=20.9 in /usr/local/lib/python3.10/dist-packages (from huggingface-hub>=0.10.0->flair) (23.1)\n",
      "Requirement already satisfied: networkx>=2.2 in /usr/local/lib/python3.10/dist-packages (from hyperopt>=0.2.7->flair) (3.1)\n",
      "Requirement already satisfied: future in /usr/local/lib/python3.10/dist-packages (from hyperopt>=0.2.7->flair) (0.18.3)\n",
      "Requirement already satisfied: cloudpickle in /usr/local/lib/python3.10/dist-packages (from hyperopt>=0.2.7->flair) (2.2.1)\n",
      "Requirement already satisfied: py4j in /usr/local/lib/python3.10/dist-packages (from hyperopt>=0.2.7->flair) (0.10.9.7)\n",
      "Requirement already satisfied: contourpy>=1.0.1 in /usr/local/lib/python3.10/dist-packages (from matplotlib>=2.2.3->flair) (1.1.0)\n",
      "Requirement already satisfied: cycler>=0.10 in /usr/local/lib/python3.10/dist-packages (from matplotlib>=2.2.3->flair) (0.11.0)\n",
      "Requirement already satisfied: fonttools>=4.22.0 in /usr/local/lib/python3.10/dist-packages (from matplotlib>=2.2.3->flair) (4.40.0)\n",
      "Requirement already satisfied: kiwisolver>=1.0.1 in /usr/local/lib/python3.10/dist-packages (from matplotlib>=2.2.3->flair) (1.4.4)\n",
      "Requirement already satisfied: pillow>=6.2.0 in /usr/local/lib/python3.10/dist-packages (from matplotlib>=2.2.3->flair) (8.4.0)\n",
      "Requirement already satisfied: pyparsing>=2.3.1 in /usr/local/lib/python3.10/dist-packages (from matplotlib>=2.2.3->flair) (3.1.0)\n",
      "Requirement already satisfied: joblib>=1.1.1 in /usr/local/lib/python3.10/dist-packages (from scikit-learn>=0.21.3->flair) (1.2.0)\n",
      "Requirement already satisfied: threadpoolctl>=2.0.0 in /usr/local/lib/python3.10/dist-packages (from scikit-learn>=0.21.3->flair) (3.1.0)\n",
      "Requirement already satisfied: sympy in /usr/local/lib/python3.10/dist-packages (from torch!=1.8,>=1.5.0->flair) (1.11.1)\n",
      "Requirement already satisfied: jinja2 in /usr/local/lib/python3.10/dist-packages (from torch!=1.8,>=1.5.0->flair) (3.1.2)\n",
      "Requirement already satisfied: triton==2.0.0 in /usr/local/lib/python3.10/dist-packages (from torch!=1.8,>=1.5.0->flair) (2.0.0)\n",
      "Requirement already satisfied: cmake in /usr/local/lib/python3.10/dist-packages (from triton==2.0.0->torch!=1.8,>=1.5.0->flair) (3.25.2)\n",
      "Requirement already satisfied: lit in /usr/local/lib/python3.10/dist-packages (from triton==2.0.0->torch!=1.8,>=1.5.0->flair) (16.0.6)\n",
      "Requirement already satisfied: datasets<3.0.0,>=2.0.0 in /usr/local/lib/python3.10/dist-packages (from transformer-smaller-training-vocab>=0.2.1->flair) (2.13.1)\n",
      "Requirement already satisfied: tokenizers!=0.11.3,<0.14,>=0.11.1 in /usr/local/lib/python3.10/dist-packages (from transformers[sentencepiece]>=4.18.0->flair) (0.13.3)\n",
      "Requirement already satisfied: safetensors>=0.3.1 in /usr/local/lib/python3.10/dist-packages (from transformers[sentencepiece]>=4.18.0->flair) (0.3.1)\n",
      "Requirement already satisfied: protobuf<=3.20.3 in /usr/local/lib/python3.10/dist-packages (from transformers[sentencepiece]>=4.18.0->flair) (3.20.3)\n",
      "Requirement already satisfied: botocore<1.30.0,>=1.29.160 in /usr/local/lib/python3.10/dist-packages (from boto3->flair) (1.29.160)\n",
      "Requirement already satisfied: jmespath<2.0.0,>=0.7.1 in /usr/local/lib/python3.10/dist-packages (from boto3->flair) (1.0.1)\n",
      "Requirement already satisfied: s3transfer<0.7.0,>=0.6.0 in /usr/local/lib/python3.10/dist-packages (from boto3->flair) (0.6.1)\n",
      "Requirement already satisfied: wcwidth>=0.2.5 in /usr/local/lib/python3.10/dist-packages (from ftfy->flair) (0.2.6)\n",
      "Requirement already satisfied: urllib3<1.27,>=1.25.4 in /usr/local/lib/python3.10/dist-packages (from botocore<1.30.0,>=1.29.160->boto3->flair) (1.26.16)\n",
      "Requirement already satisfied: pyarrow>=8.0.0 in /usr/local/lib/python3.10/dist-packages (from datasets<3.0.0,>=2.0.0->transformer-smaller-training-vocab>=0.2.1->flair) (9.0.0)\n",
      "Requirement already satisfied: dill<0.3.7,>=0.3.0 in /usr/local/lib/python3.10/dist-packages (from datasets<3.0.0,>=2.0.0->transformer-smaller-training-vocab>=0.2.1->flair) (0.3.6)\n",
      "Requirement already satisfied: pandas in /usr/local/lib/python3.10/dist-packages (from datasets<3.0.0,>=2.0.0->transformer-smaller-training-vocab>=0.2.1->flair) (1.5.3)\n",
      "Requirement already satisfied: xxhash in /usr/local/lib/python3.10/dist-packages (from datasets<3.0.0,>=2.0.0->transformer-smaller-training-vocab>=0.2.1->flair) (3.2.0)\n",
      "Requirement already satisfied: multiprocess in /usr/local/lib/python3.10/dist-packages (from datasets<3.0.0,>=2.0.0->transformer-smaller-training-vocab>=0.2.1->flair) (0.70.14)\n",
      "Requirement already satisfied: aiohttp in /usr/local/lib/python3.10/dist-packages (from datasets<3.0.0,>=2.0.0->transformer-smaller-training-vocab>=0.2.1->flair) (3.8.4)\n",
      "Requirement already satisfied: certifi>=2017.4.17 in /usr/local/lib/python3.10/dist-packages (from requests[socks]->gdown==4.4.0->flair) (2023.5.7)\n",
      "Requirement already satisfied: charset-normalizer~=2.0.0 in /usr/local/lib/python3.10/dist-packages (from requests[socks]->gdown==4.4.0->flair) (2.0.12)\n",
      "Requirement already satisfied: idna<4,>=2.5 in /usr/local/lib/python3.10/dist-packages (from requests[socks]->gdown==4.4.0->flair) (3.4)\n",
      "Requirement already satisfied: accelerate>=0.20.2 in /usr/local/lib/python3.10/dist-packages (from transformers[sentencepiece]>=4.18.0->flair) (0.20.3)\n",
      "Requirement already satisfied: soupsieve>1.2 in /usr/local/lib/python3.10/dist-packages (from beautifulsoup4->gdown==4.4.0->flair) (2.4.1)\n",
      "Requirement already satisfied: MarkupSafe>=2.0 in /usr/local/lib/python3.10/dist-packages (from jinja2->torch!=1.8,>=1.5.0->flair) (2.1.3)\n",
      "Requirement already satisfied: PySocks!=1.5.7,>=1.5.6 in /usr/local/lib/python3.10/dist-packages (from requests[socks]->gdown==4.4.0->flair) (1.7.1)\n",
      "Requirement already satisfied: mpmath>=0.19 in /usr/local/lib/python3.10/dist-packages (from sympy->torch!=1.8,>=1.5.0->flair) (1.3.0)\n",
      "Requirement already satisfied: psutil in /usr/local/lib/python3.10/dist-packages (from accelerate>=0.20.2->transformers[sentencepiece]>=4.18.0->flair) (5.9.5)\n",
      "Requirement already satisfied: attrs>=17.3.0 in /usr/local/lib/python3.10/dist-packages (from aiohttp->datasets<3.0.0,>=2.0.0->transformer-smaller-training-vocab>=0.2.1->flair) (23.1.0)\n",
      "Requirement already satisfied: multidict<7.0,>=4.5 in /usr/local/lib/python3.10/dist-packages (from aiohttp->datasets<3.0.0,>=2.0.0->transformer-smaller-training-vocab>=0.2.1->flair) (6.0.4)\n",
      "Requirement already satisfied: async-timeout<5.0,>=4.0.0a3 in /usr/local/lib/python3.10/dist-packages (from aiohttp->datasets<3.0.0,>=2.0.0->transformer-smaller-training-vocab>=0.2.1->flair) (4.0.2)\n",
      "Requirement already satisfied: yarl<2.0,>=1.0 in /usr/local/lib/python3.10/dist-packages (from aiohttp->datasets<3.0.0,>=2.0.0->transformer-smaller-training-vocab>=0.2.1->flair) (1.9.2)\n",
      "Requirement already satisfied: frozenlist>=1.1.1 in /usr/local/lib/python3.10/dist-packages (from aiohttp->datasets<3.0.0,>=2.0.0->transformer-smaller-training-vocab>=0.2.1->flair) (1.3.3)\n",
      "Requirement already satisfied: aiosignal>=1.1.2 in /usr/local/lib/python3.10/dist-packages (from aiohttp->datasets<3.0.0,>=2.0.0->transformer-smaller-training-vocab>=0.2.1->flair) (1.3.1)\n",
      "Requirement already satisfied: pytz>=2020.1 in /usr/local/lib/python3.10/dist-packages (from pandas->datasets<3.0.0,>=2.0.0->transformer-smaller-training-vocab>=0.2.1->flair) (2022.7.1)\n"
     ]
    }
   ],
   "source": [
    "!pip install flair"
   ]
  },
  {
   "cell_type": "code",
   "execution_count": null,
   "metadata": {
    "id": "zZmy_bh8bT5Q"
   },
   "outputs": [],
   "source": [
    "from flair.embeddings import TransformerWordEmbeddings\n",
    "from flair.models import SequenceTagger\n",
    "from flair.trainers import ModelTrainer"
   ]
  },
  {
   "cell_type": "code",
   "execution_count": null,
   "metadata": {
    "colab": {
     "base_uri": "https://localhost:8080/"
    },
    "id": "BE93wfCrbU4h",
    "outputId": "6e0e55e8-41cc-4ee3-d48e-10d251f20324"
   },
   "outputs": [
    {
     "name": "stdout",
     "output_type": "stream",
     "text": [
      "Drive already mounted at /content/drive; to attempt to forcibly remount, call drive.mount(\"/content/drive\", force_remount=True).\n"
     ]
    }
   ],
   "source": [
    "from google.colab import drive\n",
    "drive.mount('/content/drive')"
   ]
  },
  {
   "cell_type": "code",
   "execution_count": null,
   "metadata": {
    "id": "ZgvTd3w6bYDP"
   },
   "outputs": [],
   "source": [
    "label_type = 'ner'"
   ]
  },
  {
   "cell_type": "code",
   "execution_count": null,
   "metadata": {
    "id": "B3AtA40ObawH"
   },
   "outputs": [],
   "source": [
    "columns={0:'text',1:'pos',2:'ner'}" 
   ]
  },
  {
   "cell_type": "code",
   "execution_count": null,
   "metadata": {
    "id": "TmH83LK_bfS0"
   },
   "outputs": [],
   "source": [
    "datafolder='/content/drive/MyDrive/Subinay/7_tags/'\n",
    "from flair.datasets import ColumnCorpus\n",
    "from flair.data import Corpus"
   ]
  },
  {
   "cell_type": "code",
   "execution_count": null,
   "metadata": {
    "colab": {
     "base_uri": "https://localhost:8080/"
    },
    "id": "SVKl8d_KbiIq",
    "outputId": "2e12c3d7-bb7e-4a7b-eb78-0aa783a4024c"
   },
   "outputs": [
    {
     "name": "stdout",
     "output_type": "stream",
     "text": [
      "2023-06-24 10:04:21,847 Reading data from /content/drive/MyDrive/Subinay/7_tags\n",
      "2023-06-24 10:04:21,849 Train: /content/drive/MyDrive/Subinay/7_tags/tag_sequence_5_riot_10_evidence_new_flair.txt\n",
      "2023-06-24 10:04:21,850 Dev: /content/drive/MyDrive/Subinay/7_tags/tag_sequence_dev_8tags_flair.txt\n",
      "2023-06-24 10:04:21,851 Test: /content/drive/MyDrive/Subinay/7_tags/tag_sequence_test_7tags_flair.txt\n"
     ]
    }
   ],
   "source": [
    "corpus: Corpus = ColumnCorpus(datafolder, columns,\n",
    "                              train_file='tag_sequence_5_riot_10_evidence_new_flair.txt',test_file='tag_sequence_test_7tags_flair.txt',dev_file='tag_sequence_dev_8tags_flair.txt'\n",
    "                  )"
   ]
  },
  {
   "cell_type": "code",
   "execution_count": null,
   "metadata": {
    "colab": {
     "base_uri": "https://localhost:8080/"
    },
    "id": "CfS5SrfXb7Rv",
    "outputId": "fb6797cf-66df-4785-9fde-044b6258d633"
   },
   "outputs": [
    {
     "name": "stdout",
     "output_type": "stream",
     "text": [
      "2023-06-24 11:09:16,401 Computing label dictionary. Progress:\n"
     ]
    },
    {
     "name": "stderr",
     "output_type": "stream",
     "text": [
      "246it [00:00, 3663.69it/s]"
     ]
    },
    {
     "name": "stdout",
     "output_type": "stream",
     "text": [
      "2023-06-24 11:09:16,480 Dictionary created for label 'ner' with 8 values: Otag (seen 3330 times), wittest (seen 1130 times), riot (seen 915 times), evidence (seen 762 times), assault (seen 734 times), imprisonment (seen 509 times), expwittest (seen 502 times), homicide (seen 501 times)\n"
     ]
    },
    {
     "name": "stderr",
     "output_type": "stream",
     "text": [
      "\n"
     ]
    }
   ],
   "source": [
    "label_dict = corpus.make_label_dictionary(label_type=label_type, add_unk=False)"
   ]
  },
  {
   "cell_type": "code",
   "execution_count": null,
   "metadata": {
    "colab": {
     "base_uri": "https://localhost:8080/"
    },
    "id": "plokzmD0b7WA",
    "outputId": "d4edab83-a5a9-4dd6-f3c7-d4df73fd012d"
   },
   "outputs": [
    {
     "name": "stdout",
     "output_type": "stream",
     "text": [
      "Dictionary with 8 tags: Otag, wittest, riot, evidence, assault, imprisonment, expwittest, homicide\n"
     ]
    }
   ],
   "source": [
    "print(label_dict)"
   ]
  },
  {
   "cell_type": "code",
   "execution_count": null,
   "metadata": {
    "id": "NH4uGsjDb_R0"
   },
   "outputs": [],
   "source": [
    "embeddings = TransformerWordEmbeddings(model='xlm-roberta-large',\n",
    "                                       layers=\"-1\",\n",
    "                                       subtoken_pooling=\"first\",\n",
    "                                       fine_tune=True,\n",
    "                                       use_context=True,\n",
    "                                       )"
   ]
  },
  {
   "cell_type": "code",
   "execution_count": null,
   "metadata": {
    "colab": {
     "base_uri": "https://localhost:8080/"
    },
    "id": "TQqFlBotcFwd",
    "outputId": "2d486c2c-46f1-4b2d-96b9-ccc0e7777286"
   },
   "outputs": [
    {
     "name": "stdout",
     "output_type": "stream",
     "text": [
      "2023-06-24 11:09:51,562 SequenceTagger predicts: Dictionary with 8 tags: Otag, wittest, riot, evidence, assault, imprisonment, expwittest, homicide\n"
     ]
    }
   ],
   "source": [
    "tagger = SequenceTagger(hidden_size=256,\n",
    "                        embeddings=embeddings,\n",
    "                        tag_dictionary=label_dict,\n",
    "                        tag_type='ner',\n",
    "                        use_crf=False,\n",
    "                        use_rnn=False,\n",
    "                        reproject_embeddings=False,\n",
    "                        )"
   ]
  },
  {
   "cell_type": "code",
   "execution_count": null,
   "metadata": {
    "id": "mwIsNoakcIoS"
   },
   "outputs": [],
   "source": [
    "trainer = ModelTrainer(tagger, corpus)"
   ]
  },
  {
   "cell_type": "code",
   "execution_count": null,
   "metadata": {
    "colab": {
     "base_uri": "https://localhost:8080/"
    },
    "id": "kHhAwqmnb_VZ",
    "outputId": "2f0de66b-919d-4117-f272-dbe1a802699f"
   },
   "outputs": [
    {
     "name": "stdout",
     "output_type": "stream",
     "text": [
      "2023-06-24 11:21:49,834 ----------------------------------------------------------------------------------------------------\n",
      "2023-06-24 11:21:49,839 Model: \"SequenceTagger(\n",
      "  (embeddings): TransformerWordEmbeddings(\n",
      "    (model): XLMRobertaModel(\n",
      "      (embeddings): XLMRobertaEmbeddings(\n",
      "        (word_embeddings): Embedding(250003, 1024)\n",
      "        (position_embeddings): Embedding(514, 1024, padding_idx=1)\n",
      "        (token_type_embeddings): Embedding(1, 1024)\n",
      "        (LayerNorm): LayerNorm((1024,), eps=1e-05, elementwise_affine=True)\n",
      "        (dropout): Dropout(p=0.1, inplace=False)\n",
      "      )\n",
      "      (encoder): XLMRobertaEncoder(\n",
      "        (layer): ModuleList(\n",
      "          (0-23): 24 x XLMRobertaLayer(\n",
      "            (attention): XLMRobertaAttention(\n",
      "              (self): XLMRobertaSelfAttention(\n",
      "                (query): Linear(in_features=1024, out_features=1024, bias=True)\n",
      "                (key): Linear(in_features=1024, out_features=1024, bias=True)\n",
      "                (value): Linear(in_features=1024, out_features=1024, bias=True)\n",
      "                (dropout): Dropout(p=0.1, inplace=False)\n",
      "              )\n",
      "              (output): XLMRobertaSelfOutput(\n",
      "                (dense): Linear(in_features=1024, out_features=1024, bias=True)\n",
      "                (LayerNorm): LayerNorm((1024,), eps=1e-05, elementwise_affine=True)\n",
      "                (dropout): Dropout(p=0.1, inplace=False)\n",
      "              )\n",
      "            )\n",
      "            (intermediate): XLMRobertaIntermediate(\n",
      "              (dense): Linear(in_features=1024, out_features=4096, bias=True)\n",
      "              (intermediate_act_fn): GELUActivation()\n",
      "            )\n",
      "            (output): XLMRobertaOutput(\n",
      "              (dense): Linear(in_features=4096, out_features=1024, bias=True)\n",
      "              (LayerNorm): LayerNorm((1024,), eps=1e-05, elementwise_affine=True)\n",
      "              (dropout): Dropout(p=0.1, inplace=False)\n",
      "            )\n",
      "          )\n",
      "        )\n",
      "      )\n",
      "      (pooler): XLMRobertaPooler(\n",
      "        (dense): Linear(in_features=1024, out_features=1024, bias=True)\n",
      "        (activation): Tanh()\n",
      "      )\n",
      "    )\n",
      "  )\n",
      "  (locked_dropout): LockedDropout(p=0.5)\n",
      "  (linear): Linear(in_features=1024, out_features=8, bias=True)\n",
      "  (loss_function): CrossEntropyLoss()\n",
      ")\"\n",
      "2023-06-24 11:21:49,842 ----------------------------------------------------------------------------------------------------\n",
      "2023-06-24 11:21:49,844 Corpus: \"Corpus: 246 train + 10 dev + 738 test sentences\"\n",
      "2023-06-24 11:21:49,846 ----------------------------------------------------------------------------------------------------\n",
      "2023-06-24 11:21:49,849 Parameters:\n",
      "2023-06-24 11:21:49,851  - learning_rate: \"0.000005\"\n",
      "2023-06-24 11:21:49,853  - mini_batch_size: \"3\"\n",
      "2023-06-24 11:21:49,854  - patience: \"3\"\n",
      "2023-06-24 11:21:49,857  - anneal_factor: \"0.5\"\n",
      "2023-06-24 11:21:49,858  - max_epochs: \"10\"\n",
      "2023-06-24 11:21:49,859  - shuffle: \"True\"\n",
      "2023-06-24 11:21:49,861  - train_with_dev: \"False\"\n",
      "2023-06-24 11:21:49,865  - batch_growth_annealing: \"False\"\n",
      "2023-06-24 11:21:49,870 ----------------------------------------------------------------------------------------------------\n",
      "2023-06-24 11:21:49,871 Model training base path: \"/content/drive/MyDrive/Subinay/7_tags_gpt3.5_new\"\n",
      "2023-06-24 11:21:49,873 ----------------------------------------------------------------------------------------------------\n",
      "2023-06-24 11:21:49,874 Device: cuda:0\n",
      "2023-06-24 11:21:49,876 ----------------------------------------------------------------------------------------------------\n",
      "2023-06-24 11:21:49,877 Embeddings storage mode: none\n",
      "2023-06-24 11:21:49,879 ----------------------------------------------------------------------------------------------------\n",
      "2023-06-24 11:21:54,598 epoch 1 - iter 8/82 - loss 0.70850104 - time (sec): 4.72 - samples/sec: 212.61 - lr: 0.000000\n",
      "2023-06-24 11:21:59,623 epoch 1 - iter 16/82 - loss 0.64048798 - time (sec): 9.74 - samples/sec: 190.39 - lr: 0.000001\n",
      "2023-06-24 11:22:04,842 epoch 1 - iter 24/82 - loss 0.57840429 - time (sec): 14.96 - samples/sec: 182.00 - lr: 0.000001\n",
      "2023-06-24 11:22:08,889 epoch 1 - iter 32/82 - loss 0.50895150 - time (sec): 19.01 - samples/sec: 165.02 - lr: 0.000002\n",
      "2023-06-24 11:22:13,676 epoch 1 - iter 40/82 - loss 0.52240560 - time (sec): 23.80 - samples/sec: 167.26 - lr: 0.000002\n",
      "2023-06-24 11:22:18,862 epoch 1 - iter 48/82 - loss 0.55045592 - time (sec): 28.98 - samples/sec: 173.04 - lr: 0.000003\n",
      "2023-06-24 11:22:23,661 epoch 1 - iter 56/82 - loss 0.54466980 - time (sec): 33.78 - samples/sec: 166.49 - lr: 0.000003\n",
      "2023-06-24 11:22:28,403 epoch 1 - iter 64/82 - loss 0.53683269 - time (sec): 38.52 - samples/sec: 168.08 - lr: 0.000004\n",
      "2023-06-24 11:22:33,485 epoch 1 - iter 72/82 - loss 0.52991928 - time (sec): 43.61 - samples/sec: 169.04 - lr: 0.000004\n",
      "2023-06-24 11:22:38,086 epoch 1 - iter 80/82 - loss 0.56299630 - time (sec): 48.21 - samples/sec: 171.57 - lr: 0.000005\n",
      "2023-06-24 11:22:39,204 ----------------------------------------------------------------------------------------------------\n",
      "2023-06-24 11:22:39,206 EPOCH 1 done: loss 0.5560 - lr 0.000005\n"
     ]
    },
    {
     "name": "stderr",
     "output_type": "stream",
     "text": [
      "100%|██████████| 4/4 [00:00<00:00,  5.65it/s]"
     ]
    },
    {
     "name": "stdout",
     "output_type": "stream",
     "text": [
      "2023-06-24 11:22:39,930 Evaluating as a multi-label problem: False\n",
      "2023-06-24 11:22:39,945 DEV : loss 1.2344506978988647 - f1-score (micro avg)  0.423\n",
      "2023-06-24 11:22:39,951 ----------------------------------------------------------------------------------------------------\n"
     ]
    },
    {
     "name": "stderr",
     "output_type": "stream",
     "text": [
      "\n"
     ]
    },
    {
     "name": "stdout",
     "output_type": "stream",
     "text": [
      "2023-06-24 11:22:44,542 epoch 2 - iter 8/82 - loss 0.42431572 - time (sec): 4.59 - samples/sec: 151.73 - lr: 0.000005\n",
      "2023-06-24 11:22:49,823 epoch 2 - iter 16/82 - loss 0.59176144 - time (sec): 9.87 - samples/sec: 179.07 - lr: 0.000005\n",
      "2023-06-24 11:22:54,124 epoch 2 - iter 24/82 - loss 0.64928036 - time (sec): 14.17 - samples/sec: 181.25 - lr: 0.000005\n",
      "2023-06-24 11:22:58,647 epoch 2 - iter 32/82 - loss 0.60031831 - time (sec): 18.69 - samples/sec: 188.11 - lr: 0.000005\n",
      "2023-06-24 11:23:03,802 epoch 2 - iter 40/82 - loss 0.58203047 - time (sec): 23.85 - samples/sec: 180.32 - lr: 0.000005\n",
      "2023-06-24 11:23:08,686 epoch 2 - iter 48/82 - loss 0.53469041 - time (sec): 28.73 - samples/sec: 180.61 - lr: 0.000005\n",
      "2023-06-24 11:23:13,360 epoch 2 - iter 56/82 - loss 0.53398848 - time (sec): 33.40 - samples/sec: 178.00 - lr: 0.000005\n",
      "2023-06-24 11:23:17,521 epoch 2 - iter 64/82 - loss 0.52636568 - time (sec): 37.57 - samples/sec: 176.44 - lr: 0.000005\n",
      "2023-06-24 11:23:21,815 epoch 2 - iter 72/82 - loss 0.52396593 - time (sec): 41.86 - samples/sec: 173.05 - lr: 0.000005\n",
      "2023-06-24 11:23:26,432 epoch 2 - iter 80/82 - loss 0.53366843 - time (sec): 46.48 - samples/sec: 174.15 - lr: 0.000004\n",
      "2023-06-24 11:23:27,557 ----------------------------------------------------------------------------------------------------\n",
      "2023-06-24 11:23:27,558 EPOCH 2 done: loss 0.5287 - lr 0.000004\n"
     ]
    },
    {
     "name": "stderr",
     "output_type": "stream",
     "text": [
      "100%|██████████| 4/4 [00:00<00:00,  5.62it/s]"
     ]
    },
    {
     "name": "stdout",
     "output_type": "stream",
     "text": [
      "2023-06-24 11:23:28,291 Evaluating as a multi-label problem: False\n",
      "2023-06-24 11:23:28,306 DEV : loss 1.1192089319229126 - f1-score (micro avg)  0.6586\n",
      "2023-06-24 11:23:28,314 ----------------------------------------------------------------------------------------------------\n"
     ]
    },
    {
     "name": "stderr",
     "output_type": "stream",
     "text": [
      "\n"
     ]
    },
    {
     "name": "stdout",
     "output_type": "stream",
     "text": [
      "2023-06-24 11:23:33,101 epoch 3 - iter 8/82 - loss 0.57385772 - time (sec): 4.78 - samples/sec: 170.83 - lr: 0.000004\n",
      "2023-06-24 11:23:37,534 epoch 3 - iter 16/82 - loss 0.60074043 - time (sec): 9.22 - samples/sec: 158.53 - lr: 0.000004\n",
      "2023-06-24 11:23:42,457 epoch 3 - iter 24/82 - loss 0.57062827 - time (sec): 14.14 - samples/sec: 158.43 - lr: 0.000004\n",
      "2023-06-24 11:23:47,097 epoch 3 - iter 32/82 - loss 0.57434144 - time (sec): 18.78 - samples/sec: 166.04 - lr: 0.000004\n",
      "2023-06-24 11:23:51,801 epoch 3 - iter 40/82 - loss 0.54254948 - time (sec): 23.48 - samples/sec: 161.05 - lr: 0.000004\n",
      "2023-06-24 11:23:56,641 epoch 3 - iter 48/82 - loss 0.51225732 - time (sec): 28.32 - samples/sec: 163.72 - lr: 0.000004\n",
      "2023-06-24 11:24:01,787 epoch 3 - iter 56/82 - loss 0.48919101 - time (sec): 33.47 - samples/sec: 167.83 - lr: 0.000004\n",
      "2023-06-24 11:24:06,639 epoch 3 - iter 64/82 - loss 0.48250107 - time (sec): 38.32 - samples/sec: 165.86 - lr: 0.000004\n",
      "2023-06-24 11:24:11,254 epoch 3 - iter 72/82 - loss 0.45589269 - time (sec): 42.94 - samples/sec: 167.02 - lr: 0.000004\n",
      "2023-06-24 11:24:16,223 epoch 3 - iter 80/82 - loss 0.44886325 - time (sec): 47.90 - samples/sec: 171.45 - lr: 0.000004\n",
      "2023-06-24 11:24:17,224 ----------------------------------------------------------------------------------------------------\n",
      "2023-06-24 11:24:17,226 EPOCH 3 done: loss 0.4471 - lr 0.000004\n"
     ]
    },
    {
     "name": "stderr",
     "output_type": "stream",
     "text": [
      "100%|██████████| 4/4 [00:00<00:00,  5.64it/s]"
     ]
    },
    {
     "name": "stdout",
     "output_type": "stream",
     "text": [
      "2023-06-24 11:24:17,952 Evaluating as a multi-label problem: False\n",
      "2023-06-24 11:24:17,966 DEV : loss 1.6205319166183472 - f1-score (micro avg)  0.6888\n",
      "2023-06-24 11:24:17,973 ----------------------------------------------------------------------------------------------------\n"
     ]
    },
    {
     "name": "stderr",
     "output_type": "stream",
     "text": [
      "\n"
     ]
    },
    {
     "name": "stdout",
     "output_type": "stream",
     "text": [
      "2023-06-24 11:24:22,271 epoch 4 - iter 8/82 - loss 0.24134932 - time (sec): 4.29 - samples/sec: 202.57 - lr: 0.000004\n",
      "2023-06-24 11:24:27,082 epoch 4 - iter 16/82 - loss 0.33422091 - time (sec): 9.11 - samples/sec: 175.26 - lr: 0.000004\n",
      "2023-06-24 11:24:31,627 epoch 4 - iter 24/82 - loss 0.31107386 - time (sec): 13.65 - samples/sec: 180.65 - lr: 0.000004\n",
      "2023-06-24 11:24:36,694 epoch 4 - iter 32/82 - loss 0.37380907 - time (sec): 18.72 - samples/sec: 182.61 - lr: 0.000004\n",
      "2023-06-24 11:24:41,088 epoch 4 - iter 40/82 - loss 0.40038743 - time (sec): 23.11 - samples/sec: 177.05 - lr: 0.000004\n",
      "2023-06-24 11:24:45,990 epoch 4 - iter 48/82 - loss 0.38745946 - time (sec): 28.01 - samples/sec: 176.56 - lr: 0.000004\n",
      "2023-06-24 11:24:50,601 epoch 4 - iter 56/82 - loss 0.38347205 - time (sec): 32.62 - samples/sec: 175.97 - lr: 0.000004\n",
      "2023-06-24 11:24:55,993 epoch 4 - iter 64/82 - loss 0.39224655 - time (sec): 38.02 - samples/sec: 177.92 - lr: 0.000003\n",
      "2023-06-24 11:25:00,876 epoch 4 - iter 72/82 - loss 0.39349125 - time (sec): 42.90 - samples/sec: 173.20 - lr: 0.000003\n",
      "2023-06-24 11:25:05,495 epoch 4 - iter 80/82 - loss 0.38629491 - time (sec): 47.52 - samples/sec: 171.70 - lr: 0.000003\n",
      "2023-06-24 11:25:06,870 ----------------------------------------------------------------------------------------------------\n",
      "2023-06-24 11:25:06,877 EPOCH 4 done: loss 0.3918 - lr 0.000003\n"
     ]
    },
    {
     "name": "stderr",
     "output_type": "stream",
     "text": [
      "100%|██████████| 4/4 [00:00<00:00,  5.70it/s]"
     ]
    },
    {
     "name": "stdout",
     "output_type": "stream",
     "text": [
      "2023-06-24 11:25:07,594 Evaluating as a multi-label problem: False\n",
      "2023-06-24 11:25:07,614 DEV : loss 1.3565596342086792 - f1-score (micro avg)  0.6828\n",
      "2023-06-24 11:25:07,622 ----------------------------------------------------------------------------------------------------\n"
     ]
    },
    {
     "name": "stderr",
     "output_type": "stream",
     "text": [
      "\n"
     ]
    },
    {
     "name": "stdout",
     "output_type": "stream",
     "text": [
      "2023-06-24 11:25:11,962 epoch 5 - iter 8/82 - loss 0.42449676 - time (sec): 4.34 - samples/sec: 187.65 - lr: 0.000003\n",
      "2023-06-24 11:25:16,708 epoch 5 - iter 16/82 - loss 0.35859105 - time (sec): 9.08 - samples/sec: 180.86 - lr: 0.000003\n",
      "2023-06-24 11:25:21,508 epoch 5 - iter 24/82 - loss 0.32875017 - time (sec): 13.88 - samples/sec: 184.46 - lr: 0.000003\n",
      "2023-06-24 11:25:26,357 epoch 5 - iter 32/82 - loss 0.37966673 - time (sec): 18.73 - samples/sec: 177.60 - lr: 0.000003\n",
      "2023-06-24 11:25:30,895 epoch 5 - iter 40/82 - loss 0.42482600 - time (sec): 23.27 - samples/sec: 177.60 - lr: 0.000003\n",
      "2023-06-24 11:25:34,486 epoch 5 - iter 48/82 - loss 0.40084004 - time (sec): 26.86 - samples/sec: 173.74 - lr: 0.000003\n",
      "2023-06-24 11:25:39,461 epoch 5 - iter 56/82 - loss 0.38521037 - time (sec): 31.84 - samples/sec: 175.99 - lr: 0.000003\n",
      "2023-06-24 11:25:43,659 epoch 5 - iter 64/82 - loss 0.41024314 - time (sec): 36.04 - samples/sec: 180.27 - lr: 0.000003\n",
      "2023-06-24 11:25:48,416 epoch 5 - iter 72/82 - loss 0.40009904 - time (sec): 40.79 - samples/sec: 180.92 - lr: 0.000003\n",
      "2023-06-24 11:25:53,438 epoch 5 - iter 80/82 - loss 0.39534900 - time (sec): 45.81 - samples/sec: 178.59 - lr: 0.000003\n",
      "2023-06-24 11:25:54,767 ----------------------------------------------------------------------------------------------------\n",
      "2023-06-24 11:25:54,771 EPOCH 5 done: loss 0.3943 - lr 0.000003\n"
     ]
    },
    {
     "name": "stderr",
     "output_type": "stream",
     "text": [
      "100%|██████████| 4/4 [00:00<00:00,  5.69it/s]"
     ]
    },
    {
     "name": "stdout",
     "output_type": "stream",
     "text": [
      "2023-06-24 11:25:55,494 Evaluating as a multi-label problem: False\n",
      "2023-06-24 11:25:55,514 DEV : loss 1.3751381635665894 - f1-score (micro avg)  0.7372\n",
      "2023-06-24 11:25:55,521 ----------------------------------------------------------------------------------------------------\n"
     ]
    },
    {
     "name": "stderr",
     "output_type": "stream",
     "text": [
      "\n"
     ]
    },
    {
     "name": "stdout",
     "output_type": "stream",
     "text": [
      "2023-06-24 11:26:00,219 epoch 6 - iter 8/82 - loss 0.47015832 - time (sec): 4.70 - samples/sec: 208.46 - lr: 0.000003\n",
      "2023-06-24 11:26:05,024 epoch 6 - iter 16/82 - loss 0.47315920 - time (sec): 9.50 - samples/sec: 180.82 - lr: 0.000003\n",
      "2023-06-24 11:26:09,773 epoch 6 - iter 24/82 - loss 0.42195996 - time (sec): 14.25 - samples/sec: 179.86 - lr: 0.000003\n",
      "2023-06-24 11:26:14,493 epoch 6 - iter 32/82 - loss 0.43107521 - time (sec): 18.97 - samples/sec: 170.90 - lr: 0.000003\n",
      "2023-06-24 11:26:19,026 epoch 6 - iter 40/82 - loss 0.43304868 - time (sec): 23.50 - samples/sec: 170.10 - lr: 0.000003\n",
      "2023-06-24 11:26:23,580 epoch 6 - iter 48/82 - loss 0.42404800 - time (sec): 28.06 - samples/sec: 175.93 - lr: 0.000002\n",
      "2023-06-24 11:26:28,310 epoch 6 - iter 56/82 - loss 0.42603071 - time (sec): 32.79 - samples/sec: 172.45 - lr: 0.000002\n",
      "2023-06-24 11:26:32,795 epoch 6 - iter 64/82 - loss 0.40096056 - time (sec): 37.27 - samples/sec: 171.84 - lr: 0.000002\n",
      "2023-06-24 11:26:37,301 epoch 6 - iter 72/82 - loss 0.39125291 - time (sec): 41.78 - samples/sec: 175.69 - lr: 0.000002\n",
      "2023-06-24 11:26:41,771 epoch 6 - iter 80/82 - loss 0.37359844 - time (sec): 46.25 - samples/sec: 176.70 - lr: 0.000002\n",
      "2023-06-24 11:26:43,233 ----------------------------------------------------------------------------------------------------\n",
      "2023-06-24 11:26:43,239 EPOCH 6 done: loss 0.3660 - lr 0.000002\n"
     ]
    },
    {
     "name": "stderr",
     "output_type": "stream",
     "text": [
      "100%|██████████| 4/4 [00:00<00:00,  5.72it/s]"
     ]
    },
    {
     "name": "stdout",
     "output_type": "stream",
     "text": [
      "2023-06-24 11:26:43,955 Evaluating as a multi-label problem: False\n",
      "2023-06-24 11:26:43,978 DEV : loss 1.8125778436660767 - f1-score (micro avg)  0.6918\n",
      "2023-06-24 11:26:43,986 ----------------------------------------------------------------------------------------------------\n"
     ]
    },
    {
     "name": "stderr",
     "output_type": "stream",
     "text": [
      "\n"
     ]
    },
    {
     "name": "stdout",
     "output_type": "stream",
     "text": [
      "2023-06-24 11:26:48,771 epoch 7 - iter 8/82 - loss 0.46568279 - time (sec): 4.78 - samples/sec: 186.90 - lr: 0.000002\n",
      "2023-06-24 11:26:53,794 epoch 7 - iter 16/82 - loss 0.31661363 - time (sec): 9.81 - samples/sec: 185.91 - lr: 0.000002\n",
      "2023-06-24 11:26:58,278 epoch 7 - iter 24/82 - loss 0.40072259 - time (sec): 14.29 - samples/sec: 171.24 - lr: 0.000002\n",
      "2023-06-24 11:27:02,861 epoch 7 - iter 32/82 - loss 0.39516716 - time (sec): 18.87 - samples/sec: 170.77 - lr: 0.000002\n",
      "2023-06-24 11:27:07,357 epoch 7 - iter 40/82 - loss 0.36014481 - time (sec): 23.37 - samples/sec: 172.15 - lr: 0.000002\n",
      "2023-06-24 11:27:12,082 epoch 7 - iter 48/82 - loss 0.34976207 - time (sec): 28.09 - samples/sec: 171.50 - lr: 0.000002\n",
      "2023-06-24 11:27:16,722 epoch 7 - iter 56/82 - loss 0.35343329 - time (sec): 32.73 - samples/sec: 177.92 - lr: 0.000002\n",
      "2023-06-24 11:27:21,504 epoch 7 - iter 64/82 - loss 0.33006572 - time (sec): 37.52 - samples/sec: 177.28 - lr: 0.000002\n",
      "2023-06-24 11:27:25,892 epoch 7 - iter 72/82 - loss 0.32936589 - time (sec): 41.90 - samples/sec: 175.47 - lr: 0.000002\n",
      "2023-06-24 11:27:30,455 epoch 7 - iter 80/82 - loss 0.33204370 - time (sec): 46.47 - samples/sec: 177.16 - lr: 0.000002\n",
      "2023-06-24 11:27:31,692 ----------------------------------------------------------------------------------------------------\n",
      "2023-06-24 11:27:31,696 EPOCH 7 done: loss 0.3326 - lr 0.000002\n"
     ]
    },
    {
     "name": "stderr",
     "output_type": "stream",
     "text": [
      "100%|██████████| 4/4 [00:00<00:00,  5.61it/s]"
     ]
    },
    {
     "name": "stdout",
     "output_type": "stream",
     "text": [
      "2023-06-24 11:27:32,426 Evaluating as a multi-label problem: False\n",
      "2023-06-24 11:27:32,451 DEV : loss 1.5548163652420044 - f1-score (micro avg)  0.6918\n",
      "2023-06-24 11:27:32,458 ----------------------------------------------------------------------------------------------------\n"
     ]
    },
    {
     "name": "stderr",
     "output_type": "stream",
     "text": [
      "\n"
     ]
    },
    {
     "name": "stdout",
     "output_type": "stream",
     "text": [
      "2023-06-24 11:27:36,932 epoch 8 - iter 8/82 - loss 0.20787724 - time (sec): 4.47 - samples/sec: 189.86 - lr: 0.000002\n",
      "2023-06-24 11:27:41,850 epoch 8 - iter 16/82 - loss 0.28176048 - time (sec): 9.39 - samples/sec: 182.75 - lr: 0.000002\n",
      "2023-06-24 11:27:46,598 epoch 8 - iter 24/82 - loss 0.23519999 - time (sec): 14.14 - samples/sec: 189.28 - lr: 0.000002\n",
      "2023-06-24 11:27:51,681 epoch 8 - iter 32/82 - loss 0.26665447 - time (sec): 19.22 - samples/sec: 186.05 - lr: 0.000001\n",
      "2023-06-24 11:27:56,254 epoch 8 - iter 40/82 - loss 0.29523344 - time (sec): 23.79 - samples/sec: 179.72 - lr: 0.000001\n",
      "2023-06-24 11:28:00,803 epoch 8 - iter 48/82 - loss 0.28052654 - time (sec): 28.34 - samples/sec: 174.90 - lr: 0.000001\n",
      "2023-06-24 11:28:05,382 epoch 8 - iter 56/82 - loss 0.27625906 - time (sec): 32.92 - samples/sec: 169.16 - lr: 0.000001\n",
      "2023-06-24 11:28:10,257 epoch 8 - iter 64/82 - loss 0.27757397 - time (sec): 37.80 - samples/sec: 171.89 - lr: 0.000001\n",
      "2023-06-24 11:28:15,116 epoch 8 - iter 72/82 - loss 0.27021437 - time (sec): 42.66 - samples/sec: 169.83 - lr: 0.000001\n",
      "2023-06-24 11:28:20,418 epoch 8 - iter 80/82 - loss 0.27427245 - time (sec): 47.96 - samples/sec: 172.26 - lr: 0.000001\n",
      "2023-06-24 11:28:21,518 ----------------------------------------------------------------------------------------------------\n",
      "2023-06-24 11:28:21,519 EPOCH 8 done: loss 0.2733 - lr 0.000001\n"
     ]
    },
    {
     "name": "stderr",
     "output_type": "stream",
     "text": [
      "100%|██████████| 4/4 [00:00<00:00,  5.72it/s]"
     ]
    },
    {
     "name": "stdout",
     "output_type": "stream",
     "text": [
      "2023-06-24 11:28:22,239 Evaluating as a multi-label problem: False\n",
      "2023-06-24 11:28:22,255 DEV : loss 1.5753391981124878 - f1-score (micro avg)  0.7039\n",
      "2023-06-24 11:28:22,262 ----------------------------------------------------------------------------------------------------\n"
     ]
    },
    {
     "name": "stderr",
     "output_type": "stream",
     "text": [
      "\n"
     ]
    },
    {
     "name": "stdout",
     "output_type": "stream",
     "text": [
      "2023-06-24 11:28:26,234 epoch 9 - iter 8/82 - loss 0.44948017 - time (sec): 3.97 - samples/sec: 182.37 - lr: 0.000001\n",
      "2023-06-24 11:28:30,787 epoch 9 - iter 16/82 - loss 0.41979212 - time (sec): 8.52 - samples/sec: 180.32 - lr: 0.000001\n",
      "2023-06-24 11:28:35,308 epoch 9 - iter 24/82 - loss 0.34782642 - time (sec): 13.04 - samples/sec: 180.38 - lr: 0.000001\n",
      "2023-06-24 11:28:39,893 epoch 9 - iter 32/82 - loss 0.30266348 - time (sec): 17.63 - samples/sec: 171.31 - lr: 0.000001\n",
      "2023-06-24 11:28:44,779 epoch 9 - iter 40/82 - loss 0.32878151 - time (sec): 22.52 - samples/sec: 173.52 - lr: 0.000001\n",
      "2023-06-24 11:28:49,526 epoch 9 - iter 48/82 - loss 0.30352130 - time (sec): 27.26 - samples/sec: 167.04 - lr: 0.000001\n",
      "2023-06-24 11:28:55,155 epoch 9 - iter 56/82 - loss 0.29435662 - time (sec): 32.89 - samples/sec: 167.52 - lr: 0.000001\n",
      "2023-06-24 11:29:00,000 epoch 9 - iter 64/82 - loss 0.30106267 - time (sec): 37.74 - samples/sec: 170.02 - lr: 0.000001\n",
      "2023-06-24 11:29:04,532 epoch 9 - iter 72/82 - loss 0.30746276 - time (sec): 42.27 - samples/sec: 170.96 - lr: 0.000001\n",
      "2023-06-24 11:29:08,905 epoch 9 - iter 80/82 - loss 0.29506168 - time (sec): 46.64 - samples/sec: 174.87 - lr: 0.000001\n",
      "2023-06-24 11:29:10,338 ----------------------------------------------------------------------------------------------------\n",
      "2023-06-24 11:29:10,340 EPOCH 9 done: loss 0.2969 - lr 0.000001\n"
     ]
    },
    {
     "name": "stderr",
     "output_type": "stream",
     "text": [
      "100%|██████████| 4/4 [00:00<00:00,  5.69it/s]"
     ]
    },
    {
     "name": "stdout",
     "output_type": "stream",
     "text": [
      "2023-06-24 11:29:11,055 Evaluating as a multi-label problem: False\n",
      "2023-06-24 11:29:11,069 DEV : loss 1.7115142345428467 - f1-score (micro avg)  0.6888\n",
      "2023-06-24 11:29:11,074 ----------------------------------------------------------------------------------------------------\n"
     ]
    },
    {
     "name": "stderr",
     "output_type": "stream",
     "text": [
      "\n"
     ]
    },
    {
     "name": "stdout",
     "output_type": "stream",
     "text": [
      "2023-06-24 11:29:15,046 epoch 10 - iter 8/82 - loss 0.29426885 - time (sec): 3.97 - samples/sec: 156.41 - lr: 0.000001\n",
      "2023-06-24 11:29:20,302 epoch 10 - iter 16/82 - loss 0.21123209 - time (sec): 9.23 - samples/sec: 200.29 - lr: 0.000000\n",
      "2023-06-24 11:29:25,359 epoch 10 - iter 24/82 - loss 0.23413686 - time (sec): 14.28 - samples/sec: 195.96 - lr: 0.000000\n",
      "2023-06-24 11:29:29,869 epoch 10 - iter 32/82 - loss 0.25713329 - time (sec): 18.79 - samples/sec: 187.14 - lr: 0.000000\n",
      "2023-06-24 11:29:34,298 epoch 10 - iter 40/82 - loss 0.22479840 - time (sec): 23.22 - samples/sec: 190.93 - lr: 0.000000\n",
      "2023-06-24 11:29:38,562 epoch 10 - iter 48/82 - loss 0.24837954 - time (sec): 27.49 - samples/sec: 183.98 - lr: 0.000000\n",
      "2023-06-24 11:29:43,704 epoch 10 - iter 56/82 - loss 0.24844737 - time (sec): 32.63 - samples/sec: 180.36 - lr: 0.000000\n",
      "2023-06-24 11:29:48,143 epoch 10 - iter 64/82 - loss 0.24235509 - time (sec): 37.07 - samples/sec: 178.35 - lr: 0.000000\n",
      "2023-06-24 11:29:52,796 epoch 10 - iter 72/82 - loss 0.25522897 - time (sec): 41.72 - samples/sec: 178.66 - lr: 0.000000\n",
      "2023-06-24 11:29:57,143 epoch 10 - iter 80/82 - loss 0.25009213 - time (sec): 46.07 - samples/sec: 177.19 - lr: 0.000000\n",
      "2023-06-24 11:29:58,345 ----------------------------------------------------------------------------------------------------\n",
      "2023-06-24 11:29:58,346 EPOCH 10 done: loss 0.2562 - lr 0.000000\n"
     ]
    },
    {
     "name": "stderr",
     "output_type": "stream",
     "text": [
      "100%|██████████| 4/4 [00:00<00:00,  5.71it/s]"
     ]
    },
    {
     "name": "stdout",
     "output_type": "stream",
     "text": [
      "2023-06-24 11:29:59,063 Evaluating as a multi-label problem: False\n",
      "2023-06-24 11:29:59,080 DEV : loss 1.5872673988342285 - f1-score (micro avg)  0.6707\n"
     ]
    },
    {
     "name": "stderr",
     "output_type": "stream",
     "text": [
      "\n"
     ]
    },
    {
     "name": "stdout",
     "output_type": "stream",
     "text": [
      "2023-06-24 11:30:12,056 ----------------------------------------------------------------------------------------------------\n",
      "2023-06-24 11:30:12,063 Testing using last state of model ...\n"
     ]
    },
    {
     "name": "stderr",
     "output_type": "stream",
     "text": [
      "100%|██████████| 246/246 [00:39<00:00,  6.29it/s]\n"
     ]
    },
    {
     "name": "stdout",
     "output_type": "stream",
     "text": [
      "2023-06-24 11:30:51,239 Evaluating as a multi-label problem: False\n",
      "2023-06-24 11:30:51,389 0.7042\t0.7042\t0.7042\t0.7042\n",
      "2023-06-24 11:30:51,393 \n",
      "Results:\n",
      "- F-score (micro) 0.7042\n",
      "- F-score (macro) 0.5399\n",
      "- Accuracy 0.7042\n",
      "\n",
      "By class:\n",
      "              precision    recall  f1-score   support\n",
      "\n",
      "  expwittest     0.9576    0.7535    0.8434      7789\n",
      "        Otag     0.6737    0.7904    0.7274      4918\n",
      "     wittest     0.6589    0.6735    0.6662      3841\n",
      "     assault     0.3339    0.8026    0.4716       755\n",
      "    homicide     0.6241    0.0801    0.1420      1036\n",
      "    evidence     0.1887    0.6381    0.2913       257\n",
      "        riot     0.7561    0.6049    0.6721       410\n",
      "imprisonment     0.4816    0.5320    0.5055       344\n",
      "\n",
      "    accuracy                         0.7042     19350\n",
      "   macro avg     0.5843    0.6094    0.5399     19350\n",
      "weighted avg     0.7610    0.7042    0.7097     19350\n",
      "\n",
      "2023-06-24 11:30:51,395 ----------------------------------------------------------------------------------------------------\n"
     ]
    },
    {
     "data": {
      "text/plain": [
       "{'test_score': 0.7042377260981912,\n",
       " 'dev_score_history': [0.4229607250755287,\n",
       "  0.6586102719033232,\n",
       "  0.6888217522658611,\n",
       "  0.6827794561933535,\n",
       "  0.7371601208459214,\n",
       "  0.6918429003021148,\n",
       "  0.6918429003021148,\n",
       "  0.7039274924471299,\n",
       "  0.6888217522658611,\n",
       "  0.6706948640483383],\n",
       " 'train_loss_history': [0.5559685698958239,\n",
       "  0.5286811039724513,\n",
       "  0.44707634105796706,\n",
       "  0.39176827357006744,\n",
       "  0.3942988349570731,\n",
       "  0.3659606898625881,\n",
       "  0.33259668719984675,\n",
       "  0.273283056970799,\n",
       "  0.29694189396469656,\n",
       "  0.2561686593125099],\n",
       " 'dev_loss_history': [1.2344506978988647,\n",
       "  1.1192089319229126,\n",
       "  1.6205319166183472,\n",
       "  1.3565596342086792,\n",
       "  1.3751381635665894,\n",
       "  1.8125778436660767,\n",
       "  1.5548163652420044,\n",
       "  1.5753391981124878,\n",
       "  1.7115142345428467,\n",
       "  1.5872673988342285]}"
      ]
     },
     "execution_count": 26,
     "metadata": {},
     "output_type": "execute_result"
    }
   ],
   "source": [
    "trainer.fine_tune('/content/drive/MyDrive/Subinay/7_tags_gpt3.5_new/',\n",
    "                  learning_rate=5.0e-6,\n",
    "                  mini_batch_size=3,\n",
    "                  #mini_batch_chunk_size=1,  # remove this parameter to speed up computation if you have a big GPU\n",
    "                  )"
   ]
  },
  {
   "cell_type": "code",
   "execution_count": null,
   "metadata": {
    "colab": {
     "base_uri": "https://localhost:8080/"
    },
    "id": "jnG-isZ8pyHe",
    "outputId": "2ab55ec3-884e-4edf-9796-6132da131c50"
   },
   "outputs": [
    {
     "name": "stdout",
     "output_type": "stream",
     "text": [
      "2023-06-17 11:45:15,536 SequenceTagger predicts: Dictionary with 8 tags: Otag, riot, evidence, assault, wittest, imprisonment, expwittest, homicide\n"
     ]
    }
   ],
   "source": [
    "model = SequenceTagger.load(\"/content/drive/MyDrive/Subinay/tagger_gpt3.5_5_riot_10_evidence/final-model.pt\")"
   ]
  }
 ],
 "metadata": {
  "accelerator": "GPU",
  "colab": {
   "provenance": []
  },
  "gpuClass": "standard",
  "kernelspec": {
   "display_name": "Python 3 (ipykernel)",
   "language": "python",
   "name": "python3"
  },
  "language_info": {
   "codemirror_mode": {
    "name": "ipython",
    "version": 3
   },
   "file_extension": ".py",
   "mimetype": "text/x-python",
   "name": "python",
   "nbconvert_exporter": "python",
   "pygments_lexer": "ipython3",
   "version": "3.9.13"
  }
 },
 "nbformat": 4,
 "nbformat_minor": 1
}
