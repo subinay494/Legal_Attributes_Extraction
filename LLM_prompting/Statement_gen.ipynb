{
 "cells": [
  {
   "cell_type": "markdown",
   "metadata": {
    "id": "UBLNEnMEfKpv"
   },
   "source": [
    "### **GPT 3.5**"
   ]
  },
  {
   "cell_type": "code",
   "execution_count": null,
   "metadata": {
    "colab": {
     "base_uri": "https://localhost:8080/"
    },
    "id": "4Bq8dys75E9D",
    "outputId": "2236e26f-5bf4-4a4b-fe96-52236d848f1a"
   },
   "outputs": [
    {
     "name": "stdout",
     "output_type": "stream",
     "text": [
      "Looking in indexes: https://pypi.org/simple, https://us-python.pkg.dev/colab-wheels/public/simple/\n",
      "Collecting openai\n",
      "  Downloading openai-0.27.8-py3-none-any.whl (73 kB)\n",
      "\u001b[2K     \u001b[90m━━━━━━━━━━━━━━━━━━━━━━━━━━━━━━━━━━━━━━━━\u001b[0m \u001b[32m73.6/73.6 kB\u001b[0m \u001b[31m4.0 MB/s\u001b[0m eta \u001b[36m0:00:00\u001b[0m\n",
      "\u001b[?25hRequirement already satisfied: requests>=2.20 in /usr/local/lib/python3.10/dist-packages (from openai) (2.27.1)\n",
      "Requirement already satisfied: tqdm in /usr/local/lib/python3.10/dist-packages (from openai) (4.65.0)\n",
      "Collecting aiohttp (from openai)\n",
      "  Downloading aiohttp-3.8.4-cp310-cp310-manylinux_2_17_x86_64.manylinux2014_x86_64.whl (1.0 MB)\n",
      "\u001b[2K     \u001b[90m━━━━━━━━━━━━━━━━━━━━━━━━━━━━━━━━━━━━━━━━\u001b[0m \u001b[32m1.0/1.0 MB\u001b[0m \u001b[31m30.4 MB/s\u001b[0m eta \u001b[36m0:00:00\u001b[0m\n",
      "\u001b[?25hRequirement already satisfied: urllib3<1.27,>=1.21.1 in /usr/local/lib/python3.10/dist-packages (from requests>=2.20->openai) (1.26.15)\n",
      "Requirement already satisfied: certifi>=2017.4.17 in /usr/local/lib/python3.10/dist-packages (from requests>=2.20->openai) (2022.12.7)\n",
      "Requirement already satisfied: charset-normalizer~=2.0.0 in /usr/local/lib/python3.10/dist-packages (from requests>=2.20->openai) (2.0.12)\n",
      "Requirement already satisfied: idna<4,>=2.5 in /usr/local/lib/python3.10/dist-packages (from requests>=2.20->openai) (3.4)\n",
      "Requirement already satisfied: attrs>=17.3.0 in /usr/local/lib/python3.10/dist-packages (from aiohttp->openai) (23.1.0)\n",
      "Collecting multidict<7.0,>=4.5 (from aiohttp->openai)\n",
      "  Downloading multidict-6.0.4-cp310-cp310-manylinux_2_17_x86_64.manylinux2014_x86_64.whl (114 kB)\n",
      "\u001b[2K     \u001b[90m━━━━━━━━━━━━━━━━━━━━━━━━━━━━━━━━━━━━━━\u001b[0m \u001b[32m114.5/114.5 kB\u001b[0m \u001b[31m15.7 MB/s\u001b[0m eta \u001b[36m0:00:00\u001b[0m\n",
      "\u001b[?25hCollecting async-timeout<5.0,>=4.0.0a3 (from aiohttp->openai)\n",
      "  Downloading async_timeout-4.0.2-py3-none-any.whl (5.8 kB)\n",
      "Collecting yarl<2.0,>=1.0 (from aiohttp->openai)\n",
      "  Downloading yarl-1.9.2-cp310-cp310-manylinux_2_17_x86_64.manylinux2014_x86_64.whl (268 kB)\n",
      "\u001b[2K     \u001b[90m━━━━━━━━━━━━━━━━━━━━━━━━━━━━━━━━━━━━━━\u001b[0m \u001b[32m268.8/268.8 kB\u001b[0m \u001b[31m29.7 MB/s\u001b[0m eta \u001b[36m0:00:00\u001b[0m\n",
      "\u001b[?25hCollecting frozenlist>=1.1.1 (from aiohttp->openai)\n",
      "  Downloading frozenlist-1.3.3-cp310-cp310-manylinux_2_5_x86_64.manylinux1_x86_64.manylinux_2_17_x86_64.manylinux2014_x86_64.whl (149 kB)\n",
      "\u001b[2K     \u001b[90m━━━━━━━━━━━━━━━━━━━━━━━━━━━━━━━━━━━━━━\u001b[0m \u001b[32m149.6/149.6 kB\u001b[0m \u001b[31m14.1 MB/s\u001b[0m eta \u001b[36m0:00:00\u001b[0m\n",
      "\u001b[?25hCollecting aiosignal>=1.1.2 (from aiohttp->openai)\n",
      "  Downloading aiosignal-1.3.1-py3-none-any.whl (7.6 kB)\n",
      "Installing collected packages: multidict, frozenlist, async-timeout, yarl, aiosignal, aiohttp, openai\n",
      "Successfully installed aiohttp-3.8.4 aiosignal-1.3.1 async-timeout-4.0.2 frozenlist-1.3.3 multidict-6.0.4 openai-0.27.8 yarl-1.9.2\n"
     ]
    }
   ],
   "source": [
    "!pip install openai"
   ]
  },
  {
   "cell_type": "code",
   "execution_count": null,
   "metadata": {
    "id": "ZhQKOKzTAhPK"
   },
   "outputs": [],
   "source": [
    "import openai\n",
    "openai.api_key = \"\""
   ]
  },
  {
   "cell_type": "code",
   "execution_count": null,
   "metadata": {
    "id": "wnUzUBPZ5QYQ"
   },
   "outputs": [],
   "source": [
    "def get_completion(prompt, model=\"gpt-3.5-turbo\"):\n",
    "    messages = [{\"role\": \"user\", \"content\": prompt}]\n",
    "    response = openai.ChatCompletion.create(\n",
    "        model=model,\n",
    "        messages=messages,\n",
    "        temperature=0.8, # this is the degree of randomness of the model's output\n",
    "    )\n",
    "    return response.choices[0].message[\"content\"]"
   ]
  },
  {
   "cell_type": "code",
   "execution_count": null,
   "metadata": {
    "id": "eykwZCWO-rX0"
   },
   "outputs": [],
   "source": [
    "prompt=\"\"\"\n",
    "He also took note of the fact that two persons Shambhu and Avadhlal were falsely involved as accused by P.W.1.\n",
    "There are many other vital discrepancies in the testimony of the eye witnesses inasmuch as the testimony of the witnesses are at variance with the case set out in the First Information Report and as such, the High Court was justified in discarding the testimony of the witnesses.\n",
    "There appears to be some inconsistency in the evidence of eye witnesses and the medical evidence but this inconsistency is of very insignificant character\n",
    "The submission was, their evidence is totally untrustworthy and suffers from material contradictions.\n",
    "There had been material discrepancies/contradictions/ inconsistencies in regard to the lodging of FIR and investigation so far as the statements of Pratap Singh, Head Constable and R.D. Yadav, S.O., and the entries made in the Rojnamcha.\n",
    "The prosecution case is that A-1 and A-5 armed with lathis and spears cannot be accepted inasmuch as neither of them used any such weapon\n",
    "We are therefore of the view that the credibility of his version regarding the words alleged to have been uttered by the victim is open to doubt as it goes against probabilities and the natural course of conduct\n",
    "This statement can not be true because, P.W.10 doctor specifically stated that the injured was not sent by the police and there was no hospital memo.\n",
    "Apart from the above infirmity in the evidence of three eye witnesses, I find that the prosecution evidence is of a partisan character and not such on which implicit reliance can be placed.\n",
    "PauL's testimony thus creates some doubt regarding the reliability of the prosecution evidence that Joseph had received injury with a wooden spear at the hand of accused No. 6.\n",
    "\"\"\""
   ]
  },
  {
   "cell_type": "code",
   "execution_count": null,
   "metadata": {
    "colab": {
     "base_uri": "https://localhost:8080/"
    },
    "id": "WgfAgX8W-1T-",
    "outputId": "8d7b9d42-339c-4b30-b628-210811891237"
   },
   "outputs": [
    {
     "name": "stdout",
     "output_type": "stream",
     "text": [
      "1. The witness statements seem to contradict each other on crucial points, raising concerns about their accuracy.\n",
      "2. It is unclear how the prosecution can reconcile the discrepancies between the witness statements and the physical evidence.\n",
      "3. The accused's alibi raises some inconsistencies, which need further investigation to establish the truth.\n",
      "4. The prosecution's version of events seems to conflict with the medical evidence, casting doubt on their reliability.\n",
      "5. The testimony of the key witness appears to be inconsistent with the facts of the case, leading to questions about their credibility.\n",
      "6. There seem to be discrepancies between the witness statements and the official records, which need to be resolved before proceeding with the case.\n",
      "7. The victim's statement contradicts that of the eyewitnesses, creating uncertainty about what really happened.\n",
      "8. The accused's story appears to change every time they are questioned, making it difficult to establish the facts of the case.\n",
      "9. The witness statements contain many inconsistencies, making it hard to determine what really happened.\n",
      "10. The evidence presented by the prosecution doesn't seem to match up with the timeline of events, creating doubt about the veracity of their claims.\n",
      "11. The testimony of the eyewitnesses appears to be influenced by external factors, such as pressure from the authorities.\n",
      "12. The physical evidence doesn't seem to support the prosecution's case, raising serious doubts about their version of events.\n",
      "13. The accused's behavior seems to contradict their statements, causing suspicion about their culpability.\n",
      "14. The prosecution's evidence appears to be based on hearsay and conjecture, rather than concrete facts.\n",
      "15. The testimony of the witnesses contains many inconsistencies, making it difficult to establish what really happened.\n",
      "16. The accused's version of events appears to be inconsistent with the accounts of the eyewitnesses, casting doubt on their story.\n",
      "17. The prosecution appears to have ignored crucial evidence that contradicts their version of events, raising questions about their motives.\n",
      "18. The witnesses seem to have been coached to give a certain version of events, rather than telling the truth.\n",
      "19. The physical evidence doesn't match up with the accused's version of events, which raises serious questions about their credibility.\n",
      "20. The prosecution's evidence seems to be based on speculation rather than concrete facts, which casts doubt on their case.\n",
      "21. The testimony of the key witness appears to be inconsistent with the physical evidence, creating uncertainty about what actually happened.\n",
      "22. The prosecution's case appears to be built on circumstantial evidence, rather than concrete proof of guilt.\n",
      "23. The accused's statement contains many inconsistencies, making it difficult to determine their level of culpability.\n",
      "24. The physical evidence doesn't seem to match the prosecution's version of events, leading to questions about their case.\n",
      "25. The eyewitness accounts contain many discrepancies, making it difficult to establish what really happened.\n",
      "26. The accused's statements seem to change with each telling, raising serious questions about their credibility.\n",
      "27. The prosecution's evidence appears to be based on conjecture rather than concrete evidence, casting doubt on their case.\n",
      "28. The witness statements contradict each other on key points, leading to uncertainty about the truth of the matter.\n",
      "29. The physical evidence doesn't seem to support the prosecution's case, creating serious doubts about their version of events.\n",
      "30. The accused's alibi contains many inconsistencies, making it difficult to determine their level of culpability.\n"
     ]
    }
   ],
   "source": [
    "custom_prompt = f\"\"\"\n",
    "    Your task is to generate '30' statements that closely resemble the statements\n",
    "     given in the Examples delimited by \\\"\\\"\\\". The statements in the example resemble a tag \\'evidence_inconsistency\\'.\n",
    "     The generated statements should also resemble the same tag. Statements that imply some impending\n",
    "     discrepency in facts generally resemble \\' evidence_inconsistency\\'.\n",
    "     Each statement must not have less than \\\"25\\\" words.\n",
    "    Examples: \\\"\\\"\\\"{prompt}\\\"\\\"\\\"\n",
    "    \"\"\"\n",
    "response = get_completion(custom_prompt)\n",
    "print(response)"
   ]
  },
  {
   "cell_type": "code",
   "execution_count": null,
   "metadata": {
    "id": "td0xTIZ4GjIw"
   },
   "outputs": [],
   "source": [
    "prompt2=\"\"\"\n",
    "Ist November, 1984 onwards, mob had taken control of the city for a few days and Sikhs of different localities subjected to all sorts of acrocities They were murdered, thrown into drains or set ablaze. Their properties were looted and their houses were burnt.\n",
    "The agitation that started in February 1985 against government policy of reservation in the State of Gujarat turned into communal riots of shocking magnitude between Hindus and Muslims in March 1985, and resulted in mass exodus of Dabgars, a Hindu community, from their houses in the affected locality.\n",
    "The appellants' party consisted of a number of persons one of whom was armed with a hatchet. It is therefore not unreasonable to conclude that the appellants' party was prepared to use force against such an objector to achieve their object of taking the carts to the public pathway by a short-cut. The northern route, previously mentioned, was certainly shorter to reach the public passage, but that route, along with the longer portion of the public passage to be covered before reaching the spot near which the incident took place, was longer than the westerly route through the field which the party had taken. When several persons are armed with lathis and one of them is armed with a hatchet and are agreed to use these weapons in case they are thwarted in the achievement of their object, it is by no means incorrect to conclude that they were prepared to use violence in prosecution of their common object.\n",
    "That when several persons were with lathis and one of them was armed with hatchet and were agreed to use these weapons in case they were thwarted in the achievement of their object, it would be concluded that they were prepared to use violence in prosecution of their common object and that they knew that in the prosecution of such common object it was likely that some one might be so injured as to die as a result of those injuries.\n",
    "The mob which came around 11 a.m. was said to have been armed with iron rods and sticks; but then it was not causing any damage. Rather, it was being advised by this mob that the persons staying in jhudgis should get their hairs cut if they wanted to save their lives. But then another mob came which, according to PW.1, consisted of 200-1200 by PW.2 According to PW.4 the mob consisted of 100 persons. PW.8 did not give the number. We are really not concerned with the number as such. Suffice it to say that the mob was a big one. This mob caused havoc and the members of this mob too were armed with iron rods and sticks.\n",
    "'The respondent Bira Singh was a member of the unlawful assembly which was formed between 3 and 5 p.m. on 25th April 1960, in contravention of the promulgation of the order under s. 144 of the Code of Criminal Procedure. As a member of the mob he was alleged to have pelted Stones at police officers.\n",
    "The agitation took the form of picketing of Government offices and the residences of Government servants and blocking roads in order to paralyse the administration. After this form of agitation continued for some time, the District Magistrate of Manipur promulgated orders under s. 144, Criminal Proce- dure Code on the morning of April 25, 1960 banning public meetings and processions and these orders were proclaimed and communicated to the public through loudspeakers. Not- withstanding this order, crowds continued to collect and move on the streets shouting slogans. Bira Singh-the res- pondent- was said to have been leading this mob. A lathi charge by the police took place but it is stated that because of this the crowd moved a little away and began to pelt stones. The crowd was thereupon directed to disperse, its attention being drawn to the promulgation of the order under s. 144, Criminal Procedure Code and to the fact that the gathering in a public place in violation of the order made it an unlawful assembly.\n",
    "If one of the rioters causes injury for which the other rioters are to be liable under s. 149, I.P.C., the injury must have been caused in prosecution of the common object; (iii) An assembly ceases to be an unlawful assembly after the completion of its common object and only that member of the unlawful assembly would be liable for any criminal act committed later, who has actually committed it.\n",
    "Agitation that started in February 1985 against government policy of reservation in the State of Gujarat turned into communal riots of shocking magnitude between Hindus and Muslims in March 1985.\n",
    "Frenzied mob armed with whatever they could lay their hands were seen besieging passing sikhs and burning their vehicles, as doctors in the hospital fought their vain battle to save the life of Mrs. lndira Gandhi. Even President Zail Singh's cavalcade, making its way from the Airport to the hospital was not spared. The reaction of outrage went on unabated followed by reprisal killings and destruction of properties.\n",
    "\"\"\""
   ]
  },
  {
   "cell_type": "code",
   "execution_count": null,
   "metadata": {
    "colab": {
     "base_uri": "https://localhost:8080/"
    },
    "id": "ZPEGGqY7GsRg",
    "outputId": "8e1b6b9f-088b-4529-ad50-54d56d3b2f5a"
   },
   "outputs": [
    {
     "name": "stdout",
     "output_type": "stream",
     "text": [
      "1. In the aftermath of a controversial verdict, a large group of protestors started to gather, causing chaos and destruction in the streets.\n",
      "2. The police had to resort to forceful measures to disperse the rioting crowds that had been causing damage to buildings and vehicles.\n",
      "3. A heated debate over resources turned into a violent confrontation, with both sides using weapons and causing harm to innocent bystanders.\n",
      "4. A group of extremists started to spread hateful messages, which led to a wave of attacks against a particular community.\n",
      "5. Political tensions boiled over, leading to widespread rioting and looting in several neighborhoods.\n",
      "6. A peaceful demonstration turned violent when a small group of agitators started to attack police officers and vandalize public property.\n",
      "7. A group of hooligans disrupted a football match, causing chaos and destruction in the stadium and surrounding areas.\n",
      "8. In the aftermath of a natural disaster, a group of looters started to ransack stores and homes, taking advantage of the chaos.\n",
      "9. A group of angry workers went on strike, disrupting traffic and causing damage to company property.\n",
      "10. Ethnic tensions boiled over, leading to a series of violent clashes between different communities.\n",
      "11. The government's decision to implement a controversial policy sparked widespread protests and violence across the country.\n",
      "12. A mob of people started to attack a police station, seeking to free their comrades who had been arrested earlier.\n",
      "13. A peaceful protest turned violent after police officers started to use excessive force, leading to injuries and destruction of property.\n",
      "14. A group of rowdy teenagers started to cause trouble in a shopping mall, damaging stores and harassing shoppers.\n",
      "15. A local festival turned into a riot when a group of intoxicated revelers started to throw bottles and stones at the police.\n",
      "16. A high-profile court case sparked outrage among some members of the public, leading to a wave of protests and violence in the streets.\n",
      "17. A group of vigilantes took the law into their own hands, attacking suspected criminals and causing chaos in the city.\n",
      "18. A gang war erupted, with rival groups fighting for control of the streets and causing harm to innocent bystanders.\n",
      "19. A group of anarchists started to spread chaos and destruction across the city, attacking government buildings and businesses.\n",
      "20. A religious procession turned violent when a group of fanatics started to attack members of a different faith.\n",
      "21. A group of football fans started to riot after their team lost a crucial match, causing damage to the stadium and surrounding areas.\n",
      "22. A group of disgruntled employees started to protest against poor working conditions, disrupting traffic and causing damage to property.\n",
      "23. A group of students started to riot after their demands for better facilities were ignored by the university administration.\n",
      "24. A group of activists started to blockade a major highway, causing traffic chaos and delays for hours.\n",
      "25. A mob of angry citizens started to attack a suspected criminal, leading to widespread violence and destruction in the neighborhood.\n",
      "26. A group of extremists started to spread hateful messages against a particular community, leading to a wave of attacks and counter-attacks.\n",
      "27. A group of union workers started to protest against job cuts, leading to disruptions in public transportation and other services.\n",
      "28. A group of political activists started to clash with police officers after being denied permission to hold a rally in the city center.\n",
      "29. A group of farmers started to blockade a major road, demanding better prices for their produce and causing traffic chaos for hours.\n",
      "30. A group of gangsters started to feud over territory and control, leading to a series of violent clashes and innocent people getting caught in the crossfire.\n"
     ]
    }
   ],
   "source": [
    "custom_prompt2 = f\"\"\"\n",
    "    Your task is to generate '30' statements that closely resemble the statements\n",
    "     given in the Examples delimited by \\\"\\\"\\\". The statements in the example resemble a tag \\'riot\\'.\n",
    "     The generated statements should also resemble the same tag. Statements that imply upon some crimes\n",
    "     commited by a group of people and its consequences generally resemble \\'riot\\'.\n",
    "     Each statement must not have less than \\\"25\\\" words.\n",
    "    Examples: \\\"\\\"\\\"{prompt2}\\\"\\\"\\\"\n",
    "    \"\"\"\n",
    "response2 = get_completion(custom_prompt2)\n",
    "print(response2)"
   ]
  },
  {
   "cell_type": "code",
   "execution_count": null,
   "metadata": {
    "id": "81Ju_OkuJgXJ"
   },
   "outputs": [],
   "source": [
    "prompt3=\"\"\"\n",
    "Puran Chand opened the door of his room and went out into the courtyard when three of the dacoits opened an assault on Puran Chand with lathies and pharsas and when his son Gian Chand, PW 22, came out to rescue his father he too was also assaulted by the other three dacoits.\n",
    "PW.4 was assaulted by accused Sukh Singh, Jawahar, Ratan, resident of Madawara, and appellants Uttam and Girdhari with lathis. PW.2 was assaulted by appellant Uttam and accused Bahadur with lathi and axe respectively.\n",
    "He was given a blow on his head with a stick. He felt giddy and sat down.\n",
    "The accused Ramashraya Singh and Kamla Singh opened fire with guns while Satyendra Singh and Brijendra Singh attacked with katta upon the three sons of Bhola Singh (PW1). The other accused also attacked the victim party with their respective weapons.\n",
    "He was attacked. He also rushed there. He was hit by a gun shot injury. He became unconscious. According to him he had also been assaulted by dhariya on his face below the eye.\n",
    "Thakurdin was given a 'kudali' blow on his head and was also beaten by sticks. Brijwasi was given blows with sticks. As Bhaiyalal raised shouts for help he was hit on his head with a 'kudali' by Hubelal (Accused No.11).\n",
    "They took him to the Mukhiya's house at 8.30 p.m. in the night and kept him there assaulting him with lathis and slaps.\n",
    "On this Raghubir Singh is alleged to have given a gandassi blow, from its wrong side, on the right forearm of Santokh Singh PW6 while Jagat Singh appellant gave a gandassi blow by its wrong side on his left thigh. All the accused thereafter caused injuries to him with their respective weapons on his left arm and fingers and other parts of the body, including his right thigh and the right side of his head.\n",
    "Naqli and Surendra struck the deceased with their knives while Hari Ram and Satyapal assaulted him with the Lathi portion of the spears.\n",
    "Whereupon Kulwant Singh caught hold of Dalip Singh and threw him on the ground. Jeet Singh then gave a blow with barchhi, which hit Dalip Singh on the right side of the chest while Major Singh gave a blow with kirpan, which hit Dalip Singh on his left ear. Major Singh again gave a blow with the kirpan, which hit Dalip Singh on his neck.\n",
    "\"\"\""
   ]
  },
  {
   "cell_type": "code",
   "execution_count": null,
   "metadata": {
    "colab": {
     "base_uri": "https://localhost:8080/"
    },
    "id": "iKAm9XVsJknn",
    "outputId": "129c1338-757f-4c08-caee-6d1c42d2c4a4"
   },
   "outputs": [
    {
     "name": "stdout",
     "output_type": "stream",
     "text": [
      "1. The accused hit the victim with a metal rod, causing severe injury to his skull.\n",
      "2. A group of thugs attacked the victim with sharp weapons, leading to multiple cuts and bruises all over his body.\n",
      "3. The victim was struck on the head with a brick, causing him to lose consciousness.\n",
      "4. The accused beat the victim with a baseball bat, causing multiple fractures in his limbs.\n",
      "5. The assailant punched the victim in the face repeatedly, causing severe swelling and bruising.\n",
      "6. The victim was stabbed repeatedly with a knife, resulting in deep puncture wounds.\n",
      "7. The accused kicked the victim in the stomach, causing internal injuries and bleeding.\n",
      "8. The victim was hit with a heavy object on the back of his head, causing him to fall unconscious.\n",
      "9. The accused used a belt to lash the victim repeatedly, causing welts and bruises all over his body.\n",
      "10. The victim was attacked with acid, causing severe burns to his face and arms.\n",
      "11. The accused used a metal chain to beat the victim, causing deep gashes and bruises all over his body.\n",
      "12. The assailant used a hammer to strike the victim's head, causing a skull fracture and brain damage.\n",
      "13. The victim was pushed down a flight of stairs, causing multiple fractures in his legs and arms.\n",
      "14. The accused used a wooden plank to hit the victim, causing severe lacerations and bruises.\n",
      "15. The victim was attacked by a dog and sustained deep bite marks all over his body.\n",
      "16. The accused threw a rock at the victim, causing a head injury and loss of consciousness.\n",
      "17. The victim was punched repeatedly in the ribs, causing multiple fractures and internal bleeding.\n",
      "18. The assailant used a sharp object to cut the victim's face, causing deep lacerations and disfigurement.\n",
      "19. The accused burned the victim with a cigarette, causing second-degree burns.\n",
      "20. The victim was hit with a metal pipe, causing a broken arm and severe bruising.\n",
      "21. The accused choked the victim, causing him to pass out and sustain brain damage.\n",
      "22. The victim was kicked repeatedly in the head, causing a concussion and skull fracture.\n",
      "23. The assailant used a taser on the victim, causing him to convulse and sustain burns.\n",
      "24. The accused hit the victim with a car, causing multiple broken bones and internal injuries.\n",
      "25. The victim was sprayed with pepper spray, causing temporary blindness and respiratory distress.\n",
      "26. The accused used a stun gun on the victim, causing him to fall to the ground and sustain head injuries.\n",
      "27. The victim was hit with a metal baton, causing severe contusions and fractures.\n",
      "28. The assailant used a screwdriver to stab the victim in the neck, causing severe bleeding and injury to the spinal cord.\n",
      "29. The accused used a fire extinguisher to hit the victim, causing him to pass out and sustain head injuries.\n",
      "30. The victim was attacked with a machete, causing deep cuts and requiring emergency surgery.\n"
     ]
    }
   ],
   "source": [
    "custom_prompt3 = f\"\"\"\n",
    "    Your task is to generate '30' statements that closely resemble the statements\n",
    "     given in the Examples delimited by \\\"\\\"\\\". The statements in the example resemble a tag \\'physical_assault\\'.\n",
    "     The generated statements should also resemble the same tag. Statements that describe bodily harm inflicted\n",
    "     upon a person generally resemble \\'physical_assault\\'.\n",
    "     Each statement must not have less than \\\"25\\\" words.\n",
    "    Examples: \\\"\\\"\\\"{prompt3}\\\"\\\"\\\"\n",
    "    \"\"\"\n",
    "response3 = get_completion(custom_prompt3)\n",
    "print(response3)"
   ]
  },
  {
   "cell_type": "markdown",
   "metadata": {
    "id": "U3wxnPgVfAw4"
   },
   "source": [
    "## **GPT2**\n"
   ]
  },
  {
   "cell_type": "code",
   "execution_count": null,
   "metadata": {
    "colab": {
     "base_uri": "https://localhost:8080/"
    },
    "id": "FBAy7FMTjnFX",
    "outputId": "cba79725-3626-4c21-c3f2-fe8b234d6003"
   },
   "outputs": [
    {
     "name": "stdout",
     "output_type": "stream",
     "text": [
      "Looking in indexes: https://pypi.org/simple, https://us-python.pkg.dev/colab-wheels/public/simple/\n",
      "Collecting transformers\n",
      "  Downloading transformers-4.30.2-py3-none-any.whl (7.2 MB)\n",
      "\u001b[2K     \u001b[90m━━━━━━━━━━━━━━━━━━━━━━━━━━━━━━━━━━━━━━━━\u001b[0m \u001b[32m7.2/7.2 MB\u001b[0m \u001b[31m101.4 MB/s\u001b[0m eta \u001b[36m0:00:00\u001b[0m\n",
      "\u001b[?25hRequirement already satisfied: filelock in /usr/local/lib/python3.10/dist-packages (from transformers) (3.12.0)\n",
      "Collecting huggingface-hub<1.0,>=0.14.1 (from transformers)\n",
      "  Downloading huggingface_hub-0.15.1-py3-none-any.whl (236 kB)\n",
      "\u001b[2K     \u001b[90m━━━━━━━━━━━━━━━━━━━━━━━━━━━━━━━━━━━━━━\u001b[0m \u001b[32m236.8/236.8 kB\u001b[0m \u001b[31m27.2 MB/s\u001b[0m eta \u001b[36m0:00:00\u001b[0m\n",
      "\u001b[?25hRequirement already satisfied: numpy>=1.17 in /usr/local/lib/python3.10/dist-packages (from transformers) (1.22.4)\n",
      "Requirement already satisfied: packaging>=20.0 in /usr/local/lib/python3.10/dist-packages (from transformers) (23.1)\n",
      "Requirement already satisfied: pyyaml>=5.1 in /usr/local/lib/python3.10/dist-packages (from transformers) (6.0)\n",
      "Requirement already satisfied: regex!=2019.12.17 in /usr/local/lib/python3.10/dist-packages (from transformers) (2022.10.31)\n",
      "Requirement already satisfied: requests in /usr/local/lib/python3.10/dist-packages (from transformers) (2.27.1)\n",
      "Collecting tokenizers!=0.11.3,<0.14,>=0.11.1 (from transformers)\n",
      "  Downloading tokenizers-0.13.3-cp310-cp310-manylinux_2_17_x86_64.manylinux2014_x86_64.whl (7.8 MB)\n",
      "\u001b[2K     \u001b[90m━━━━━━━━━━━━━━━━━━━━━━━━━━━━━━━━━━━━━━━━\u001b[0m \u001b[32m7.8/7.8 MB\u001b[0m \u001b[31m81.6 MB/s\u001b[0m eta \u001b[36m0:00:00\u001b[0m\n",
      "\u001b[?25hCollecting safetensors>=0.3.1 (from transformers)\n",
      "  Downloading safetensors-0.3.1-cp310-cp310-manylinux_2_17_x86_64.manylinux2014_x86_64.whl (1.3 MB)\n",
      "\u001b[2K     \u001b[90m━━━━━━━━━━━━━━━━━━━━━━━━━━━━━━━━━━━━━━━━\u001b[0m \u001b[32m1.3/1.3 MB\u001b[0m \u001b[31m69.5 MB/s\u001b[0m eta \u001b[36m0:00:00\u001b[0m\n",
      "\u001b[?25hRequirement already satisfied: tqdm>=4.27 in /usr/local/lib/python3.10/dist-packages (from transformers) (4.65.0)\n",
      "Requirement already satisfied: fsspec in /usr/local/lib/python3.10/dist-packages (from huggingface-hub<1.0,>=0.14.1->transformers) (2023.4.0)\n",
      "Requirement already satisfied: typing-extensions>=3.7.4.3 in /usr/local/lib/python3.10/dist-packages (from huggingface-hub<1.0,>=0.14.1->transformers) (4.5.0)\n",
      "Requirement already satisfied: urllib3<1.27,>=1.21.1 in /usr/local/lib/python3.10/dist-packages (from requests->transformers) (1.26.15)\n",
      "Requirement already satisfied: certifi>=2017.4.17 in /usr/local/lib/python3.10/dist-packages (from requests->transformers) (2022.12.7)\n",
      "Requirement already satisfied: charset-normalizer~=2.0.0 in /usr/local/lib/python3.10/dist-packages (from requests->transformers) (2.0.12)\n",
      "Requirement already satisfied: idna<4,>=2.5 in /usr/local/lib/python3.10/dist-packages (from requests->transformers) (3.4)\n",
      "Installing collected packages: tokenizers, safetensors, huggingface-hub, transformers\n",
      "Successfully installed huggingface-hub-0.15.1 safetensors-0.3.1 tokenizers-0.13.3 transformers-4.30.2\n"
     ]
    }
   ],
   "source": [
    "!pip install transformers"
   ]
  },
  {
   "cell_type": "code",
   "execution_count": null,
   "metadata": {
    "id": "Gjwe9RhXTI80"
   },
   "outputs": [],
   "source": [
    "import tensorflow as tf\n",
    "from transformers import GPT2LMHeadModel, GPT2Tokenizer"
   ]
  },
  {
   "cell_type": "code",
   "execution_count": null,
   "metadata": {
    "colab": {
     "base_uri": "https://localhost:8080/",
     "height": 113,
     "referenced_widgets": [
      "07aa08dbc1e544408f6193f663bb2981",
      "ed95abea125f4b659dd9d006ca7e6168",
      "c58533a1410540888207eb0fd199654c",
      "f7602cd34c074aa6a68d50ba2ee5ec28",
      "c877bc01bb964b638fe7107a3c7e6c37",
      "cb63f0e581274f41b8175f37d4ea18f9",
      "b0e6ef74da2d4e24b50fee7945661dcd",
      "86864f72d99e457fb0ae5cea188e3934",
      "95dfec2cc8e240f1aeabed31c3b90e39",
      "0b63a4ed2f8143fcaf8a10bb155087cf",
      "7cc56b6bb4904c4e8f97fbe2b1080a25",
      "19151e6534cd4b83bee73a7fd675a276",
      "b8bd82e96a1348008c737ddbfa925757",
      "00e75521844c40dda40ea689fc7f1d76",
      "4f1806311ac04ebdbaa4e6e1c11d8507",
      "db512563cd6e4a56ada2981a0be1ea47",
      "5ef23e4adbf94d1a8a61110712a25c0b",
      "9de072c2db1145c0b04a01ce4273b02e",
      "5d21b0bca2884e1abd4c60e7d8e4ddbf",
      "eb676730cf2c437891c446bf2abb00e3",
      "900c90fbc56b4499a9b995c9d9510820",
      "7b4b91451bf946dca60f3d1412e32caf",
      "06a80c2abc1549dd9018cb3320947350",
      "b3ce1212d1e54071afe65595ac410b2a",
      "25df814165e240bc88c182683551d2d0",
      "036a82a1836f477e8350d7357d9f3af4",
      "dc2b683b5f9047899cf5732f9711070f",
      "8e24caeef1ac4cb9803630e318278a93",
      "362157dc2bb9486a9c51f10c7e382672",
      "fb956b74ac074037841a7440b982c999",
      "4aeb29262d7c4085a91d029565510f21",
      "3a681469ca604bb4b3bb41fe9db93fb3",
      "549b807212e343d2803bff51118f6025"
     ]
    },
    "id": "3nlOCXOLTQ5P",
    "outputId": "cd735768-c6f0-4566-afd5-4164a0e5266f"
   },
   "outputs": [
    {
     "data": {
      "application/vnd.jupyter.widget-view+json": {
       "model_id": "07aa08dbc1e544408f6193f663bb2981",
       "version_major": 2,
       "version_minor": 0
      },
      "text/plain": [
       "Downloading (…)olve/main/vocab.json:   0%|          | 0.00/1.04M [00:00<?, ?B/s]"
      ]
     },
     "metadata": {},
     "output_type": "display_data"
    },
    {
     "data": {
      "application/vnd.jupyter.widget-view+json": {
       "model_id": "19151e6534cd4b83bee73a7fd675a276",
       "version_major": 2,
       "version_minor": 0
      },
      "text/plain": [
       "Downloading (…)olve/main/merges.txt:   0%|          | 0.00/456k [00:00<?, ?B/s]"
      ]
     },
     "metadata": {},
     "output_type": "display_data"
    },
    {
     "data": {
      "application/vnd.jupyter.widget-view+json": {
       "model_id": "06a80c2abc1549dd9018cb3320947350",
       "version_major": 2,
       "version_minor": 0
      },
      "text/plain": [
       "Downloading (…)lve/main/config.json:   0%|          | 0.00/666 [00:00<?, ?B/s]"
      ]
     },
     "metadata": {},
     "output_type": "display_data"
    }
   ],
   "source": [
    "tokenizer = GPT2Tokenizer.from_pretrained(\"gpt2-large\")"
   ]
  },
  {
   "cell_type": "code",
   "execution_count": null,
   "metadata": {
    "colab": {
     "base_uri": "https://localhost:8080/",
     "height": 81,
     "referenced_widgets": [
      "a0096222730f4d8c9fc4277907420429",
      "67f74e1ae5de4bb5a825dfeade4a68d1",
      "d75092d64d2d49c6aba1cd0253bd8b96",
      "bca49c64754a41099aaba89b864127d6",
      "d44ee03771504160a9f162203c24bb7c",
      "ff51dddfce434539878ced8d3b3ecf5b",
      "a9aaa9fd200c421bb2b3668f7288a22b",
      "cd06a5c43a99442d9f74230733a28262",
      "5644b2a0e92140e0aa1b5cb7a9d71ae5",
      "a26dc9fec93e4ed291348338db1ccab6",
      "48300b34be834e2dbe099ccc340235d0",
      "b0a13483c53e493d81e66b35afdc3b4e",
      "12b9508aa8164c36bf32b2db703755a0",
      "5af9cb417f7440ca8b492bdf0f048d4f",
      "1b285bfa2da54e8aa1989bd4f617a1b7",
      "3561b8c27d7344a1b46f87fc228dd559",
      "dc35c034d983407f8761e9856f83a256",
      "ce0e94d4804943c5809916db1b46c13f",
      "70be8472bbc145b19bbf9f5e97a68f48",
      "ad087ca69c30452fbae5ca4d0934b93d",
      "7b15031c07f54edd9b5263d58947948c",
      "671a07b2af694d728bbc168fb4015633"
     ]
    },
    "id": "KjBRRsEiTUyh",
    "outputId": "6bc04074-3a0c-40d6-fd66-5dc3f993c7bb"
   },
   "outputs": [
    {
     "data": {
      "application/vnd.jupyter.widget-view+json": {
       "model_id": "a0096222730f4d8c9fc4277907420429",
       "version_major": 2,
       "version_minor": 0
      },
      "text/plain": [
       "Downloading model.safetensors:   0%|          | 0.00/3.25G [00:00<?, ?B/s]"
      ]
     },
     "metadata": {},
     "output_type": "display_data"
    },
    {
     "data": {
      "application/vnd.jupyter.widget-view+json": {
       "model_id": "b0a13483c53e493d81e66b35afdc3b4e",
       "version_major": 2,
       "version_minor": 0
      },
      "text/plain": [
       "Downloading (…)neration_config.json:   0%|          | 0.00/124 [00:00<?, ?B/s]"
      ]
     },
     "metadata": {},
     "output_type": "display_data"
    }
   ],
   "source": [
    "model = GPT2LMHeadModel.from_pretrained(\"gpt2-large\", pad_token_id=tokenizer.eos_token_id)"
   ]
  },
  {
   "cell_type": "code",
   "execution_count": null,
   "metadata": {
    "id": "xHr-PKgyTfQY"
   },
   "outputs": [],
   "source": [
    "fd=open('evidence_datafile.txt')"
   ]
  },
  {
   "cell_type": "code",
   "execution_count": null,
   "metadata": {
    "colab": {
     "base_uri": "https://localhost:8080/"
    },
    "id": "tZvYWNnaTqMV",
    "outputId": "32698183-a0b0-4c1e-ea79-e3c30bb0a683"
   },
   "outputs": [
    {
     "name": "stdout",
     "output_type": "stream",
     "text": [
      "\n",
      "The court also noted that the accused had not been produced before the court on the day of hearing. The court further observed that it was not possible for the prosecution to prove the case beyond reasonable doubt. It was, therefore, directed that both accused should be produced for cross-examination.\n",
      "\n",
      "It is also important to note that there is no evidence to support the contention that the accused was in possession of a firearm at the time of his arrest. It is not possible for a person to have a gun in his possession at a time when he is being questioned by the police. There is, therefore, no basis on which to conclude that he was carrying a weapon at that time. In addition, it is clear from the evidence of other witnesses that they were not aware of any gun being\n",
      "\n",
      "There is no evidence to support the claim that there was a deliberate attempt to cover up the truth about the events of 9/11. There is, however, some evidence that the official story is not the whole truth and that some of the facts may not be as they are being presented to the public.\n",
      "\n",
      "\n",
      "For example, it has been reported that on the morning of September 11, 2001, the first plane hit the World Trade Center in New York City, killing almost 3,000 people\n",
      "\n",
      "\"It is a very serious matter and we are taking it very seriously,\" he said.\n",
      "\n",
      "On the basis of the aforesaid material, it was decided that the case should be referred to a Special Investigation Team (SIT) headed by Additional Solicitor General (ASG) P.K. Mishra. The SIT was constituted under the Chairmanship of Justice J.S. Verma, who was nominated by the Government of India. It was also decided to refer the matter to CBI for further investigation.\n",
      "\n",
      "In the case of the two accused, the prosecution alleges that they were not present when the incident took place. The prosecution has also alleged that the accused did not use any weapon in the alleged incident. However, it is not clear whether the police have any evidence to substantiate this allegation. It is also not known whether there are any witnesses who can corroborate these allegations. In the absence of any corroborating evidence, we are unable to reach a conclusion as to the guilt or innocence of these\n",
      "\n",
      "... [T]here is no evidence to support his claim that he was in a state of mind at the time he uttered the alleged words, and there is nothing to suggest that his words were uttered in the context of a sexual relationship with the complainant. The evidence does not support a finding of guilt beyond reasonable doubt.\" (footnote omitted) (citations omitted). The Court of Criminal Appeal of Ontario, in R. v. Smith, [1990] 1 S.C.\n",
      "\n",
      "This is not the first time that a doctor has made such a statement. In fact, it is the second time in the last two years. The first case was in February 2015, when Dr. Ramesh Kumar, who is also the president of the Indian Medical Association (IMA), made a similar statement in a press conference in New Delhi. He said, \"I am not aware of any such incident. I have never seen such an incident in my career.\" He also said that\n",
      "\n",
      "In the first place, there is no evidence to show that any of the three witnesses were in any way prejudiced by the fact that they were witnesses to the trial. In the second place it is not possible to say that there was any prejudice in respect of any one of them by reason of his being a witness. It is possible, but not probable, that he would have been more inclined to give evidence if he had been in a position to do so. There is, therefore, no\n",
      "\n",
      "\n",
      "In addition, the testimony of Joseph's brother Hyrum, who was present in the room when the alleged injury occurred, was not corroborated by any other witness. The only witness who testified that he saw the injury was his own brother-in-law, David Whitmer, and he was unable to identify the person who struck Joseph with the spear. In fact, he did not even know who it was that struck him. He did, however, testify that his brother, H\n"
     ]
    }
   ],
   "source": [
    "for i in fd:\n",
    "  j=len(i)\n",
    "  encoded_input=tokenizer(i,return_tensors='pt')\n",
    "  ind=encoded_input['input_ids']\n",
    "  am=encoded_input['attention_mask']\n",
    "  #input_ids = tokenizer.encode(i, return_tensors='pt')\n",
    "  output = model.generate(ind,attention_mask=am,max_new_tokens=100, num_beams=5, no_repeat_ngram_size=2, early_stopping=True,temperature=1.5)\n",
    "  print(tokenizer.decode(output[0], skip_special_tokens=True)[j:])"
   ]
  },
  {
   "cell_type": "code",
   "execution_count": null,
   "metadata": {
    "id": "MKYf9PRbTv6X"
   },
   "outputs": [],
   "source": [
    "fd.close()"
   ]
  },
  {
   "cell_type": "code",
   "execution_count": null,
   "metadata": {
    "id": "6H-ElVD9x5Gw"
   },
   "outputs": [],
   "source": [
    "fd=open('Physical_assault_dataset.txt')"
   ]
  },
  {
   "cell_type": "code",
   "execution_count": null,
   "metadata": {
    "colab": {
     "base_uri": "https://localhost:8080/"
    },
    "id": "10SCbvDN-_Ys",
    "outputId": "5fe9b340-4e7e-4d37-b678-4e4e646fa6d7"
   },
   "outputs": [
    {
     "name": "stdout",
     "output_type": "stream",
     "text": [
      "\n",
      "PW 22 was taken to the hospital where he was treated for his injuries. He was later shifted to a private hospital in Gurgaon where his condition is said to be critical.\n",
      "\n",
      "4. On the basis of the evidence adduced by the learned counsel for the State, it is submitted that there is no material on record to support the contention that the accused persons assaulted the\n",
      "\n",
      "\"What's going on?\" he asked. \"What did you do to me? Why are you beating me up like this? What's the matter with you? Are you mad at me?\"\n",
      "\n",
      "According to the police, the incident took place at around 10.30 pm on Sunday. The victim was returning home after attending a function in the area. He was attacked by the accused and his\n",
      "\n",
      "The police have registered a case under section 302 (murder) of the Indian Penal Code.\n",
      "\n",
      "Bhagat Singh, who was present at the time of the incident, said, \"I was sitting in the same room as the accused. I heard the blows being given to Bhag\n",
      "\n",
      "He was then taken to a nearby hospital where he was treated for injuries on his head, neck and chest. He was discharged from the hospital on Saturday.\n",
      "\n",
      "2. The accused PW1, PW2 and PW3 were present at the place where the incident took place. They were also present in the police station at that time. It was their duty\n",
      "\n",
      "According to the police, the incident took place at around 10.30 pm on Sunday. The deceased was rushed to a nearby hospital where he succumbed to his injuries.\n",
      "\n",
      "\n",
      "Jehangir Singh, who was standing near the spot where the incident took place, heard the commotion and rushed over to see what was going on. When he saw the two men\n"
     ]
    }
   ],
   "source": [
    "for i in fd:\n",
    "  j=len(i)\n",
    "  encoded_input=tokenizer(i,return_tensors='pt')\n",
    "  ind=encoded_input['input_ids']\n",
    "  am=encoded_input['attention_mask']\n",
    "  #input_ids = tokenizer.encode(i, return_tensors='pt')\n",
    "  output = model.generate(ind,attention_mask=am,max_new_tokens=40, num_beams=5, no_repeat_ngram_size=2, early_stopping=True,temperature=1.5)\n",
    "  print(tokenizer.decode(output[0], skip_special_tokens=True)[j:])"
   ]
  },
  {
   "cell_type": "code",
   "execution_count": null,
   "metadata": {
    "id": "iBRmnnoi_GJV"
   },
   "outputs": [],
   "source": [
    "fd.close()"
   ]
  },
  {
   "cell_type": "code",
   "execution_count": null,
   "metadata": {
    "id": "MIZIHkhLAaQK"
   },
   "outputs": [],
   "source": [
    "fd=open('riot_dataset.txt')"
   ]
  },
  {
   "cell_type": "code",
   "execution_count": null,
   "metadata": {
    "colab": {
     "base_uri": "https://localhost:8080/"
    },
    "id": "IIJC7mD6A6w6",
    "outputId": "4a699a83-ff33-4e9e-9fa7-863e793de061"
   },
   "outputs": [
    {
     "name": "stdout",
     "output_type": "stream",
     "text": [
      "\n",
      "Sikhs were beaten up, beaten to death, their homes were ransacked and they were forced to live in the open. The police were not able to do anything to stop the violence\n",
      "\n",
      "In the aftermath of the riots, the Government of India, under the leadership of Prime Minister Atal Bihari Vajpayee, initiated a series of measures to ensure the safety and security of\n",
      "\n",
      "It is not necessary to decide the question whether the appellant was justified in using force in defence of his life or the life of another, or whether it was reasonable for him to have done so.\n",
      "\n",
      "In the present case, there is no evidence that any of the persons with the hatchets had any intention of causing death or grievous bodily harm to any person. There is, however,\n",
      "\n",
      "PW.3 said that when the police arrived at the spot, they found a large number of persons, including women and children, who were lying on the ground. The police took them to\n",
      "\n",
      "2. The respondent was arrested on the spot. He was produced before the Magistrate and was remanded in police custody till the next date of hearing on 26th May 1960. On that date\n",
      "\n",
      "On April 26, at about 9.30 a.m., the Government of India sent a telegram to all the States and Union Territories stating that it had received information that a large number of\n",
      "\n",
      "(2) In this section, \"common object\" means an assembly of two or more persons for the purpose of committing a criminal offence. (3) A person is not liable to prosecution for\n",
      "\n",
      "The riots were triggered by the killing of a Muslim youth by a Hindu mob in Ahmedabad. The rioting spread to other towns and villages in Gujarat, and the state government declared a state of\n",
      "\n",
      "\n",
      "On the evening of the same day, on the outskirts of Srinagar, a large number of Sikhs were massacred by a mob of Hindus. This was the first of a series\n"
     ]
    }
   ],
   "source": [
    "for i in fd:\n",
    "  j=len(i)\n",
    "  encoded_input=tokenizer(i,return_tensors='pt')\n",
    "  ind=encoded_input['input_ids']\n",
    "  am=encoded_input['attention_mask']\n",
    "  output = model.generate(ind,attention_mask=am,max_new_tokens=40, num_beams=5, no_repeat_ngram_size=2, early_stopping=True,temperature=1.5)\n",
    "  print(tokenizer.decode(output[0], skip_special_tokens=True)[j:])"
   ]
  },
  {
   "cell_type": "code",
   "execution_count": null,
   "metadata": {
    "id": "kwi_RiT6A9jF"
   },
   "outputs": [],
   "source": [
    "fd.close()\n"
   ]
  }
 ],
 "metadata": {
  "colab": {
   "provenance": []
  },
  "kernelspec": {
   "display_name": "Python 3 (ipykernel)",
   "language": "python",
   "name": "python3"
  },
  "language_info": {
   "codemirror_mode": {
    "name": "ipython",
    "version": 3
   },
   "file_extension": ".py",
   "mimetype": "text/x-python",
   "name": "python",
   "nbconvert_exporter": "python",
   "pygments_lexer": "ipython3",
   "version": "3.9.13"
  }
 },
 "nbformat": 4,
 "nbformat_minor": 1
}
